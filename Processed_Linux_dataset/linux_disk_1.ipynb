{
 "cells": [
  {
   "cell_type": "code",
   "execution_count": 1,
   "id": "ef5e27f5",
   "metadata": {},
   "outputs": [],
   "source": [
    "import numpy as np\n",
    "import pandas as pd\n",
    "from sklearn.preprocessing import OneHotEncoder\n",
    "from sklearn.model_selection import train_test_split\n",
    "from sklearn.preprocessing import StandardScaler\n",
    "from sklearn.linear_model import LogisticRegression\n",
    "from sklearn.ensemble import RandomForestClassifier\n",
    "from sklearn import preprocessing\n",
    "from sklearn.metrics import accuracy_score\n",
    "from sklearn.neighbors import KNeighborsClassifier\n",
    "from collections import Counter\n",
    "import matplotlib.pyplot as plt\n",
    "from sklearn.svm import SVC  \n",
    "from sklearn.naive_bayes import GaussianNB\n",
    "from sklearn.tree import DecisionTreeClassifier\n",
    "import xgboost as xgb\n",
    "from xgboost.sklearn import XGBClassifier\n",
    "from sklearn.neural_network import MLPClassifier\n",
    "from sklearn.decomposition import FastICA\n",
    "from sklearn.ensemble import AdaBoostClassifier\n",
    "from sklearn.ensemble import GradientBoostingClassifier\n",
    "from sklearn import decomposition\n",
    "from sklearn.feature_selection import SelectPercentile as sp\n",
    "from sklearn.feature_selection import SelectFromModel\n",
    "from sklearn.linear_model import Lasso\n",
    "from mlxtend.feature_selection import SequentialFeatureSelector\n",
    "from sklearn.feature_selection import RFECV"
   ]
  },
  {
   "cell_type": "code",
   "execution_count": 2,
   "id": "84fcaf15",
   "metadata": {},
   "outputs": [
    {
     "name": "stderr",
     "output_type": "stream",
     "text": [
      "C:\\Users\\serev\\anaconda3\\lib\\site-packages\\IPython\\core\\interactiveshell.py:3444: DtypeWarning: Columns (2,3,4,5) have mixed types.Specify dtype option on import or set low_memory=False.\n",
      "  exec(code_obj, self.user_global_ns, self.user_ns)\n"
     ]
    }
   ],
   "source": [
    "df = pd.read_csv('linux_disk_1.csv')"
   ]
  },
  {
   "cell_type": "code",
   "execution_count": 3,
   "id": "d20683b5",
   "metadata": {
    "scrolled": true
   },
   "outputs": [
    {
     "data": {
      "text/html": [
       "<div>\n",
       "<style scoped>\n",
       "    .dataframe tbody tr th:only-of-type {\n",
       "        vertical-align: middle;\n",
       "    }\n",
       "\n",
       "    .dataframe tbody tr th {\n",
       "        vertical-align: top;\n",
       "    }\n",
       "\n",
       "    .dataframe thead th {\n",
       "        text-align: right;\n",
       "    }\n",
       "</style>\n",
       "<table border=\"1\" class=\"dataframe\">\n",
       "  <thead>\n",
       "    <tr style=\"text-align: right;\">\n",
       "      <th></th>\n",
       "      <th>ts</th>\n",
       "      <th>PID</th>\n",
       "      <th>RDDSK</th>\n",
       "      <th>WRDSK</th>\n",
       "      <th>WCANCL</th>\n",
       "      <th>DSK</th>\n",
       "      <th>CMD</th>\n",
       "      <th>label</th>\n",
       "      <th>type</th>\n",
       "    </tr>\n",
       "  </thead>\n",
       "  <tbody>\n",
       "    <tr>\n",
       "      <th>0</th>\n",
       "      <td>1554218915</td>\n",
       "      <td>3197</td>\n",
       "      <td>148.2</td>\n",
       "      <td>37340</td>\n",
       "      <td>12328</td>\n",
       "      <td>0.22</td>\n",
       "      <td>firefox</td>\n",
       "      <td>0</td>\n",
       "      <td>normal</td>\n",
       "    </tr>\n",
       "    <tr>\n",
       "      <th>1</th>\n",
       "      <td>1554218920</td>\n",
       "      <td>2327</td>\n",
       "      <td>32824.0</td>\n",
       "      <td>688</td>\n",
       "      <td>4</td>\n",
       "      <td>0.04</td>\n",
       "      <td>init</td>\n",
       "      <td>0</td>\n",
       "      <td>normal</td>\n",
       "    </tr>\n",
       "    <tr>\n",
       "      <th>2</th>\n",
       "      <td>1554218925</td>\n",
       "      <td>2797</td>\n",
       "      <td>23468.0</td>\n",
       "      <td>7416</td>\n",
       "      <td>6152</td>\n",
       "      <td>0.04</td>\n",
       "      <td>nautilus</td>\n",
       "      <td>0</td>\n",
       "      <td>normal</td>\n",
       "    </tr>\n",
       "    <tr>\n",
       "      <th>3</th>\n",
       "      <td>1554218930</td>\n",
       "      <td>2801</td>\n",
       "      <td>3612.0</td>\n",
       "      <td>14320</td>\n",
       "      <td>0</td>\n",
       "      <td>0.02</td>\n",
       "      <td>tracer-store</td>\n",
       "      <td>0</td>\n",
       "      <td>normal</td>\n",
       "    </tr>\n",
       "    <tr>\n",
       "      <th>4</th>\n",
       "      <td>1554218935</td>\n",
       "      <td>2993</td>\n",
       "      <td>5184.0</td>\n",
       "      <td>11152</td>\n",
       "      <td>0</td>\n",
       "      <td>0.02</td>\n",
       "      <td>zeitgeist-fts</td>\n",
       "      <td>0</td>\n",
       "      <td>normal</td>\n",
       "    </tr>\n",
       "  </tbody>\n",
       "</table>\n",
       "</div>"
      ],
      "text/plain": [
       "           ts   PID    RDDSK  WRDSK WCANCL   DSK            CMD  label    type\n",
       "0  1554218915  3197    148.2  37340  12328  0.22        firefox      0  normal\n",
       "1  1554218920  2327  32824.0    688      4  0.04           init      0  normal\n",
       "2  1554218925  2797  23468.0   7416   6152  0.04       nautilus      0  normal\n",
       "3  1554218930  2801   3612.0  14320      0  0.02   tracer-store      0  normal\n",
       "4  1554218935  2993   5184.0  11152      0  0.02  zeitgeist-fts      0  normal"
      ]
     },
     "execution_count": 3,
     "metadata": {},
     "output_type": "execute_result"
    }
   ],
   "source": [
    "df.head()"
   ]
  },
  {
   "cell_type": "code",
   "execution_count": 4,
   "id": "a5f69603",
   "metadata": {},
   "outputs": [
    {
     "data": {
      "text/html": [
       "<div>\n",
       "<style scoped>\n",
       "    .dataframe tbody tr th:only-of-type {\n",
       "        vertical-align: middle;\n",
       "    }\n",
       "\n",
       "    .dataframe tbody tr th {\n",
       "        vertical-align: top;\n",
       "    }\n",
       "\n",
       "    .dataframe thead th {\n",
       "        text-align: right;\n",
       "    }\n",
       "</style>\n",
       "<table border=\"1\" class=\"dataframe\">\n",
       "  <thead>\n",
       "    <tr style=\"text-align: right;\">\n",
       "      <th></th>\n",
       "      <th>RDDSK</th>\n",
       "      <th>WRDSK</th>\n",
       "      <th>WCANCL</th>\n",
       "      <th>DSK</th>\n",
       "      <th>label</th>\n",
       "      <th>type</th>\n",
       "    </tr>\n",
       "  </thead>\n",
       "  <tbody>\n",
       "    <tr>\n",
       "      <th>0</th>\n",
       "      <td>148.2</td>\n",
       "      <td>37340</td>\n",
       "      <td>12328</td>\n",
       "      <td>0.22</td>\n",
       "      <td>0</td>\n",
       "      <td>normal</td>\n",
       "    </tr>\n",
       "    <tr>\n",
       "      <th>1</th>\n",
       "      <td>32824.0</td>\n",
       "      <td>688</td>\n",
       "      <td>4</td>\n",
       "      <td>0.04</td>\n",
       "      <td>0</td>\n",
       "      <td>normal</td>\n",
       "    </tr>\n",
       "    <tr>\n",
       "      <th>2</th>\n",
       "      <td>23468.0</td>\n",
       "      <td>7416</td>\n",
       "      <td>6152</td>\n",
       "      <td>0.04</td>\n",
       "      <td>0</td>\n",
       "      <td>normal</td>\n",
       "    </tr>\n",
       "    <tr>\n",
       "      <th>3</th>\n",
       "      <td>3612.0</td>\n",
       "      <td>14320</td>\n",
       "      <td>0</td>\n",
       "      <td>0.02</td>\n",
       "      <td>0</td>\n",
       "      <td>normal</td>\n",
       "    </tr>\n",
       "    <tr>\n",
       "      <th>4</th>\n",
       "      <td>5184.0</td>\n",
       "      <td>11152</td>\n",
       "      <td>0</td>\n",
       "      <td>0.02</td>\n",
       "      <td>0</td>\n",
       "      <td>normal</td>\n",
       "    </tr>\n",
       "    <tr>\n",
       "      <th>...</th>\n",
       "      <td>...</td>\n",
       "      <td>...</td>\n",
       "      <td>...</td>\n",
       "      <td>...</td>\n",
       "      <td>...</td>\n",
       "      <td>...</td>\n",
       "    </tr>\n",
       "    <tr>\n",
       "      <th>999995</th>\n",
       "      <td>0</td>\n",
       "      <td>0</td>\n",
       "      <td>0</td>\n",
       "      <td>0.0</td>\n",
       "      <td>0</td>\n",
       "      <td>normal</td>\n",
       "    </tr>\n",
       "    <tr>\n",
       "      <th>999996</th>\n",
       "      <td>0</td>\n",
       "      <td>0</td>\n",
       "      <td>0</td>\n",
       "      <td>0.0</td>\n",
       "      <td>0</td>\n",
       "      <td>normal</td>\n",
       "    </tr>\n",
       "    <tr>\n",
       "      <th>999997</th>\n",
       "      <td>0</td>\n",
       "      <td>0</td>\n",
       "      <td>0</td>\n",
       "      <td>0.0</td>\n",
       "      <td>0</td>\n",
       "      <td>normal</td>\n",
       "    </tr>\n",
       "    <tr>\n",
       "      <th>999998</th>\n",
       "      <td>0</td>\n",
       "      <td>0</td>\n",
       "      <td>0</td>\n",
       "      <td>0.0</td>\n",
       "      <td>0</td>\n",
       "      <td>normal</td>\n",
       "    </tr>\n",
       "    <tr>\n",
       "      <th>999999</th>\n",
       "      <td>0</td>\n",
       "      <td>0</td>\n",
       "      <td>0</td>\n",
       "      <td>0.0</td>\n",
       "      <td>0</td>\n",
       "      <td>normal</td>\n",
       "    </tr>\n",
       "  </tbody>\n",
       "</table>\n",
       "<p>1000000 rows × 6 columns</p>\n",
       "</div>"
      ],
      "text/plain": [
       "          RDDSK  WRDSK WCANCL   DSK  label    type\n",
       "0         148.2  37340  12328  0.22      0  normal\n",
       "1       32824.0    688      4  0.04      0  normal\n",
       "2       23468.0   7416   6152  0.04      0  normal\n",
       "3        3612.0  14320      0  0.02      0  normal\n",
       "4        5184.0  11152      0  0.02      0  normal\n",
       "...         ...    ...    ...   ...    ...     ...\n",
       "999995        0      0      0   0.0      0  normal\n",
       "999996        0      0      0   0.0      0  normal\n",
       "999997        0      0      0   0.0      0  normal\n",
       "999998        0      0      0   0.0      0  normal\n",
       "999999        0      0      0   0.0      0  normal\n",
       "\n",
       "[1000000 rows x 6 columns]"
      ]
     },
     "execution_count": 4,
     "metadata": {},
     "output_type": "execute_result"
    }
   ],
   "source": [
    "df = df.drop(['ts', 'PID', 'CMD'], axis = 1)\n",
    "df"
   ]
  },
  {
   "cell_type": "code",
   "execution_count": 5,
   "id": "dc05fd85",
   "metadata": {},
   "outputs": [],
   "source": [
    "df = df[df['RDDSK'].str.contains('K') == False]\n",
    "df = df[df['RDDSK'].str.contains('M') == False]\n",
    "df = df[df['RDDSK'].str.contains(' ') == False]\n",
    "\n",
    "df = df.replace('-', 0)\n",
    "df = df.replace('%', 0)"
   ]
  },
  {
   "cell_type": "code",
   "execution_count": 6,
   "id": "2c7ae972",
   "metadata": {},
   "outputs": [
    {
     "data": {
      "text/plain": [
       "RDDSK     0\n",
       "WRDSK     0\n",
       "WCANCL    0\n",
       "DSK       0\n",
       "label     0\n",
       "type      0\n",
       "dtype: int64"
      ]
     },
     "execution_count": 6,
     "metadata": {},
     "output_type": "execute_result"
    }
   ],
   "source": [
    "df.isnull().sum()"
   ]
  },
  {
   "cell_type": "code",
   "execution_count": 7,
   "id": "7817dc2d",
   "metadata": {},
   "outputs": [],
   "source": [
    "target = df.loc[:, ('type')]"
   ]
  },
  {
   "cell_type": "code",
   "execution_count": 8,
   "id": "0e9b3318",
   "metadata": {},
   "outputs": [
    {
     "data": {
      "text/html": [
       "<div>\n",
       "<style scoped>\n",
       "    .dataframe tbody tr th:only-of-type {\n",
       "        vertical-align: middle;\n",
       "    }\n",
       "\n",
       "    .dataframe tbody tr th {\n",
       "        vertical-align: top;\n",
       "    }\n",
       "\n",
       "    .dataframe thead th {\n",
       "        text-align: right;\n",
       "    }\n",
       "</style>\n",
       "<table border=\"1\" class=\"dataframe\">\n",
       "  <thead>\n",
       "    <tr style=\"text-align: right;\">\n",
       "      <th></th>\n",
       "      <th>RDDSK</th>\n",
       "      <th>WRDSK</th>\n",
       "      <th>WCANCL</th>\n",
       "      <th>DSK</th>\n",
       "      <th>label</th>\n",
       "    </tr>\n",
       "  </thead>\n",
       "  <tbody>\n",
       "    <tr>\n",
       "      <th>458752</th>\n",
       "      <td>0</td>\n",
       "      <td>0</td>\n",
       "      <td>0</td>\n",
       "      <td>0</td>\n",
       "      <td>0</td>\n",
       "    </tr>\n",
       "    <tr>\n",
       "      <th>458753</th>\n",
       "      <td>0</td>\n",
       "      <td>0</td>\n",
       "      <td>0</td>\n",
       "      <td>0</td>\n",
       "      <td>0</td>\n",
       "    </tr>\n",
       "    <tr>\n",
       "      <th>458754</th>\n",
       "      <td>0</td>\n",
       "      <td>0</td>\n",
       "      <td>0</td>\n",
       "      <td>0</td>\n",
       "      <td>0</td>\n",
       "    </tr>\n",
       "    <tr>\n",
       "      <th>458755</th>\n",
       "      <td>0</td>\n",
       "      <td>0</td>\n",
       "      <td>0</td>\n",
       "      <td>0</td>\n",
       "      <td>0</td>\n",
       "    </tr>\n",
       "    <tr>\n",
       "      <th>458756</th>\n",
       "      <td>0</td>\n",
       "      <td>0</td>\n",
       "      <td>0</td>\n",
       "      <td>0</td>\n",
       "      <td>0</td>\n",
       "    </tr>\n",
       "    <tr>\n",
       "      <th>...</th>\n",
       "      <td>...</td>\n",
       "      <td>...</td>\n",
       "      <td>...</td>\n",
       "      <td>...</td>\n",
       "      <td>...</td>\n",
       "    </tr>\n",
       "    <tr>\n",
       "      <th>589819</th>\n",
       "      <td>0</td>\n",
       "      <td>32</td>\n",
       "      <td>0</td>\n",
       "      <td>0</td>\n",
       "      <td>0</td>\n",
       "    </tr>\n",
       "    <tr>\n",
       "      <th>589820</th>\n",
       "      <td>0</td>\n",
       "      <td>28</td>\n",
       "      <td>0</td>\n",
       "      <td>0</td>\n",
       "      <td>0</td>\n",
       "    </tr>\n",
       "    <tr>\n",
       "      <th>589821</th>\n",
       "      <td>0</td>\n",
       "      <td>12</td>\n",
       "      <td>0</td>\n",
       "      <td>0</td>\n",
       "      <td>0</td>\n",
       "    </tr>\n",
       "    <tr>\n",
       "      <th>589822</th>\n",
       "      <td>0</td>\n",
       "      <td>8</td>\n",
       "      <td>0</td>\n",
       "      <td>0</td>\n",
       "      <td>0</td>\n",
       "    </tr>\n",
       "    <tr>\n",
       "      <th>589823</th>\n",
       "      <td>0</td>\n",
       "      <td>8</td>\n",
       "      <td>0</td>\n",
       "      <td>0</td>\n",
       "      <td>0</td>\n",
       "    </tr>\n",
       "  </tbody>\n",
       "</table>\n",
       "<p>73026 rows × 5 columns</p>\n",
       "</div>"
      ],
      "text/plain": [
       "       RDDSK WRDSK WCANCL DSK  label\n",
       "458752     0     0      0   0      0\n",
       "458753     0     0      0   0      0\n",
       "458754     0     0      0   0      0\n",
       "458755     0     0      0   0      0\n",
       "458756     0     0      0   0      0\n",
       "...      ...   ...    ...  ..    ...\n",
       "589819     0    32      0   0      0\n",
       "589820     0    28      0   0      0\n",
       "589821     0    12      0   0      0\n",
       "589822     0     8      0   0      0\n",
       "589823     0     8      0   0      0\n",
       "\n",
       "[73026 rows x 5 columns]"
      ]
     },
     "execution_count": 8,
     "metadata": {},
     "output_type": "execute_result"
    }
   ],
   "source": [
    "df = df.drop('type', axis = 1)\n",
    "df"
   ]
  },
  {
   "cell_type": "code",
   "execution_count": 9,
   "id": "e7f516d6",
   "metadata": {},
   "outputs": [
    {
     "data": {
      "text/html": [
       "<div>\n",
       "<style scoped>\n",
       "    .dataframe tbody tr th:only-of-type {\n",
       "        vertical-align: middle;\n",
       "    }\n",
       "\n",
       "    .dataframe tbody tr th {\n",
       "        vertical-align: top;\n",
       "    }\n",
       "\n",
       "    .dataframe thead th {\n",
       "        text-align: right;\n",
       "    }\n",
       "</style>\n",
       "<table border=\"1\" class=\"dataframe\">\n",
       "  <thead>\n",
       "    <tr style=\"text-align: right;\">\n",
       "      <th></th>\n",
       "      <th>RDDSK</th>\n",
       "      <th>WRDSK</th>\n",
       "      <th>WCANCL</th>\n",
       "      <th>DSK</th>\n",
       "      <th>label</th>\n",
       "    </tr>\n",
       "  </thead>\n",
       "  <tbody>\n",
       "    <tr>\n",
       "      <th>458752</th>\n",
       "      <td>0</td>\n",
       "      <td>0</td>\n",
       "      <td>0</td>\n",
       "      <td>0</td>\n",
       "      <td>0</td>\n",
       "    </tr>\n",
       "    <tr>\n",
       "      <th>458753</th>\n",
       "      <td>0</td>\n",
       "      <td>0</td>\n",
       "      <td>0</td>\n",
       "      <td>0</td>\n",
       "      <td>0</td>\n",
       "    </tr>\n",
       "    <tr>\n",
       "      <th>458754</th>\n",
       "      <td>0</td>\n",
       "      <td>0</td>\n",
       "      <td>0</td>\n",
       "      <td>0</td>\n",
       "      <td>0</td>\n",
       "    </tr>\n",
       "    <tr>\n",
       "      <th>458755</th>\n",
       "      <td>0</td>\n",
       "      <td>0</td>\n",
       "      <td>0</td>\n",
       "      <td>0</td>\n",
       "      <td>0</td>\n",
       "    </tr>\n",
       "    <tr>\n",
       "      <th>458756</th>\n",
       "      <td>0</td>\n",
       "      <td>0</td>\n",
       "      <td>0</td>\n",
       "      <td>0</td>\n",
       "      <td>0</td>\n",
       "    </tr>\n",
       "    <tr>\n",
       "      <th>...</th>\n",
       "      <td>...</td>\n",
       "      <td>...</td>\n",
       "      <td>...</td>\n",
       "      <td>...</td>\n",
       "      <td>...</td>\n",
       "    </tr>\n",
       "    <tr>\n",
       "      <th>589819</th>\n",
       "      <td>0</td>\n",
       "      <td>32</td>\n",
       "      <td>0</td>\n",
       "      <td>0</td>\n",
       "      <td>0</td>\n",
       "    </tr>\n",
       "    <tr>\n",
       "      <th>589820</th>\n",
       "      <td>0</td>\n",
       "      <td>28</td>\n",
       "      <td>0</td>\n",
       "      <td>0</td>\n",
       "      <td>0</td>\n",
       "    </tr>\n",
       "    <tr>\n",
       "      <th>589821</th>\n",
       "      <td>0</td>\n",
       "      <td>12</td>\n",
       "      <td>0</td>\n",
       "      <td>0</td>\n",
       "      <td>0</td>\n",
       "    </tr>\n",
       "    <tr>\n",
       "      <th>589822</th>\n",
       "      <td>0</td>\n",
       "      <td>8</td>\n",
       "      <td>0</td>\n",
       "      <td>0</td>\n",
       "      <td>0</td>\n",
       "    </tr>\n",
       "    <tr>\n",
       "      <th>589823</th>\n",
       "      <td>0</td>\n",
       "      <td>8</td>\n",
       "      <td>0</td>\n",
       "      <td>0</td>\n",
       "      <td>0</td>\n",
       "    </tr>\n",
       "  </tbody>\n",
       "</table>\n",
       "<p>73026 rows × 5 columns</p>\n",
       "</div>"
      ],
      "text/plain": [
       "       RDDSK WRDSK WCANCL DSK  label\n",
       "458752     0     0      0   0      0\n",
       "458753     0     0      0   0      0\n",
       "458754     0     0      0   0      0\n",
       "458755     0     0      0   0      0\n",
       "458756     0     0      0   0      0\n",
       "...      ...   ...    ...  ..    ...\n",
       "589819     0    32      0   0      0\n",
       "589820     0    28      0   0      0\n",
       "589821     0    12      0   0      0\n",
       "589822     0     8      0   0      0\n",
       "589823     0     8      0   0      0\n",
       "\n",
       "[73026 rows x 5 columns]"
      ]
     },
     "execution_count": 9,
     "metadata": {},
     "output_type": "execute_result"
    }
   ],
   "source": [
    "cat = []\n",
    "for i in df.columns:\n",
    "    if len(df[i].unique()) <= 328: cat.append(i)\n",
    "df_cat = df[cat]\n",
    "df_cat"
   ]
  },
  {
   "cell_type": "code",
   "execution_count": 10,
   "id": "681cb929",
   "metadata": {},
   "outputs": [],
   "source": [
    "def lr(x, y):\n",
    "    x_train, x_test, y_train, y_test = train_test_split(x, y, test_size = 0.3, random_state = 43)\n",
    "    model_lr = LogisticRegression()\n",
    "    model_lr.fit(x_train, y_train)\n",
    "    preds = model_lr.predict(x_test)\n",
    "    return accuracy_score(y_test, preds)"
   ]
  },
  {
   "cell_type": "code",
   "execution_count": 11,
   "id": "c2d8a290",
   "metadata": {},
   "outputs": [],
   "source": [
    "def dtc(x, y):\n",
    "    x_train, x_test, y_train, y_test = train_test_split(x, y, test_size = 0.3, random_state = 43)\n",
    "    model_dtc = DecisionTreeClassifier()   \n",
    "    model_dtc.fit(x_train, y_train)\n",
    "    preds = model_dtc.predict(x_test)\n",
    "    return accuracy_score(y_test, preds)"
   ]
  },
  {
   "cell_type": "code",
   "execution_count": 12,
   "id": "43078809",
   "metadata": {},
   "outputs": [],
   "source": [
    "def rfc(x, y):\n",
    "    x_train, x_test, y_train, y_test = train_test_split(x, y, test_size = 0.3, random_state = 43)\n",
    "    model_rfc = RandomForestClassifier()    \n",
    "    model_rfc.fit(x_train, y_train)\n",
    "    preds = model_rfc.predict(x_test)\n",
    "    return accuracy_score(y_test, preds)"
   ]
  },
  {
   "cell_type": "code",
   "execution_count": 13,
   "id": "7cb26e16",
   "metadata": {},
   "outputs": [],
   "source": [
    "def knn(x, y):\n",
    "    x_train, x_test, y_train, y_test = train_test_split(x, y, test_size = 0.3, random_state = 43)\n",
    "    model_knn = KNeighborsClassifier()\n",
    "    model_knn.fit(x_train, y_train)\n",
    "    preds = model_knn.predict(x_test)\n",
    "    return accuracy_score(y_test, preds)"
   ]
  },
  {
   "cell_type": "code",
   "execution_count": 14,
   "id": "9c10076b",
   "metadata": {},
   "outputs": [],
   "source": [
    "def svm(x, y):\n",
    "    x_train, x_test, y_train, y_test = train_test_split(x, y, test_size = 0.3, random_state = 43)\n",
    "    model_svm = SVC(kernel = 'sigmoid')\n",
    "    model_svm.fit(x_train, y_train) \n",
    "    preds = model_svm.predict(x_test)\n",
    "    return accuracy_score(y_test, preds)"
   ]
  },
  {
   "cell_type": "code",
   "execution_count": 15,
   "id": "e11707ea",
   "metadata": {},
   "outputs": [],
   "source": [
    "def nb(x, y):\n",
    "    x_train, x_test, y_train, y_test = train_test_split(x, y, test_size = 0.3, random_state = 43)\n",
    "    model_nb = GaussianNB()\n",
    "    model_nb.fit(x_train, y_train)\n",
    "    preds = model_nb.predict(x_test)\n",
    "    return accuracy_score(y_test, preds)"
   ]
  },
  {
   "cell_type": "code",
   "execution_count": 16,
   "id": "96cbc361",
   "metadata": {},
   "outputs": [],
   "source": [
    "def xgbb(x, y):\n",
    "    x_train, x_test, y_train, y_test = train_test_split(x, y, test_size = 0.3, random_state = 43)\n",
    "    model_xgb = xgb.XGBClassifier()\n",
    "    model_xgb.fit(x_train, y_train)\n",
    "    preds = model_xgb.predict(x_test)\n",
    "    return accuracy_score(y_test, preds)"
   ]
  },
  {
   "cell_type": "code",
   "execution_count": 17,
   "id": "586bf903",
   "metadata": {},
   "outputs": [],
   "source": [
    "def adb(x, y):\n",
    "    x_train, x_test, y_train, y_test = train_test_split(x, y, test_size = 0.3, random_state = 43)\n",
    "    model_adb = AdaBoostClassifier()\n",
    "    model_adb.fit(x_train, y_train)\n",
    "    preds = model_adb.predict(x_test)\n",
    "    return accuracy_score(y_test, preds)"
   ]
  },
  {
   "cell_type": "code",
   "execution_count": 18,
   "id": "4229fde8",
   "metadata": {},
   "outputs": [],
   "source": [
    "def mlp(x, y):\n",
    "    x_train, x_test, y_train, y_test = train_test_split(x, y, test_size = 0.3, random_state = 43)\n",
    "    model_mlp = MLPClassifier()    \n",
    "    model_mlp.fit(x_train, y_train)\n",
    "    preds = model_mlp.predict(x_test)\n",
    "    return accuracy_score(y_test, preds)"
   ]
  },
  {
   "cell_type": "code",
   "execution_count": 19,
   "id": "003c49d9",
   "metadata": {},
   "outputs": [],
   "source": [
    "def gb(x, y):\n",
    "    x_train, x_test, y_train, y_test = train_test_split(x, y, test_size = 0.3, random_state = 43)\n",
    "    model_mlp = GradientBoostingClassifier() \n",
    "    model_mlp.fit(x_train, y_train)\n",
    "    preds = model_mlp.predict(x_test)\n",
    "    return accuracy_score(y_test, preds)"
   ]
  },
  {
   "cell_type": "code",
   "execution_count": 20,
   "id": "253b5faf",
   "metadata": {},
   "outputs": [],
   "source": [
    "label_encoder = preprocessing.LabelEncoder()\n",
    "target = label_encoder.fit_transform(target)"
   ]
  },
  {
   "cell_type": "code",
   "execution_count": 21,
   "id": "049e3f24",
   "metadata": {},
   "outputs": [],
   "source": [
    "x = df\n",
    "y = target"
   ]
  },
  {
   "cell_type": "code",
   "execution_count": 22,
   "id": "d68d9628",
   "metadata": {},
   "outputs": [],
   "source": [
    "x.columns = x.columns.astype('str')"
   ]
  },
  {
   "cell_type": "code",
   "execution_count": 23,
   "id": "382a13ad",
   "metadata": {
    "scrolled": true
   },
   "outputs": [
    {
     "ename": "ValueError",
     "evalue": "could not convert string to float: '0%'",
     "output_type": "error",
     "traceback": [
      "\u001b[1;31m---------------------------------------------------------------------------\u001b[0m",
      "\u001b[1;31mValueError\u001b[0m                                Traceback (most recent call last)",
      "\u001b[1;32m~\\AppData\\Local\\Temp/ipykernel_6904/3146730094.py\u001b[0m in \u001b[0;36m<module>\u001b[1;34m\u001b[0m\n\u001b[0;32m      2\u001b[0m \u001b[1;33m\u001b[0m\u001b[0m\n\u001b[0;32m      3\u001b[0m \u001b[1;33m\u001b[0m\u001b[0m\n\u001b[1;32m----> 4\u001b[1;33m \u001b[0mprint\u001b[0m\u001b[1;33m(\u001b[0m\u001b[1;34m'lr - '\u001b[0m\u001b[1;33m,\u001b[0m \u001b[0mlr\u001b[0m\u001b[1;33m(\u001b[0m\u001b[0mx\u001b[0m\u001b[1;33m,\u001b[0m \u001b[0my\u001b[0m\u001b[1;33m)\u001b[0m\u001b[1;33m)\u001b[0m\u001b[1;33m\u001b[0m\u001b[1;33m\u001b[0m\u001b[0m\n\u001b[0m\u001b[0;32m      5\u001b[0m \u001b[0mprint\u001b[0m\u001b[1;33m(\u001b[0m\u001b[1;34m'dtc - '\u001b[0m\u001b[1;33m,\u001b[0m \u001b[0mdtc\u001b[0m\u001b[1;33m(\u001b[0m\u001b[0mx\u001b[0m\u001b[1;33m,\u001b[0m \u001b[0my\u001b[0m\u001b[1;33m)\u001b[0m\u001b[1;33m)\u001b[0m\u001b[1;33m\u001b[0m\u001b[1;33m\u001b[0m\u001b[0m\n\u001b[0;32m      6\u001b[0m \u001b[0mprint\u001b[0m\u001b[1;33m(\u001b[0m\u001b[1;34m'rfc - '\u001b[0m\u001b[1;33m,\u001b[0m \u001b[0mrfc\u001b[0m\u001b[1;33m(\u001b[0m\u001b[0mx\u001b[0m\u001b[1;33m,\u001b[0m \u001b[0my\u001b[0m\u001b[1;33m)\u001b[0m\u001b[1;33m)\u001b[0m\u001b[1;33m\u001b[0m\u001b[1;33m\u001b[0m\u001b[0m\n",
      "\u001b[1;32m~\\AppData\\Local\\Temp/ipykernel_6904/2400110266.py\u001b[0m in \u001b[0;36mlr\u001b[1;34m(x, y)\u001b[0m\n\u001b[0;32m      2\u001b[0m     \u001b[0mx_train\u001b[0m\u001b[1;33m,\u001b[0m \u001b[0mx_test\u001b[0m\u001b[1;33m,\u001b[0m \u001b[0my_train\u001b[0m\u001b[1;33m,\u001b[0m \u001b[0my_test\u001b[0m \u001b[1;33m=\u001b[0m \u001b[0mtrain_test_split\u001b[0m\u001b[1;33m(\u001b[0m\u001b[0mx\u001b[0m\u001b[1;33m,\u001b[0m \u001b[0my\u001b[0m\u001b[1;33m,\u001b[0m \u001b[0mtest_size\u001b[0m \u001b[1;33m=\u001b[0m \u001b[1;36m0.3\u001b[0m\u001b[1;33m,\u001b[0m \u001b[0mrandom_state\u001b[0m \u001b[1;33m=\u001b[0m \u001b[1;36m43\u001b[0m\u001b[1;33m)\u001b[0m\u001b[1;33m\u001b[0m\u001b[1;33m\u001b[0m\u001b[0m\n\u001b[0;32m      3\u001b[0m     \u001b[0mmodel_lr\u001b[0m \u001b[1;33m=\u001b[0m \u001b[0mLogisticRegression\u001b[0m\u001b[1;33m(\u001b[0m\u001b[1;33m)\u001b[0m\u001b[1;33m\u001b[0m\u001b[1;33m\u001b[0m\u001b[0m\n\u001b[1;32m----> 4\u001b[1;33m     \u001b[0mmodel_lr\u001b[0m\u001b[1;33m.\u001b[0m\u001b[0mfit\u001b[0m\u001b[1;33m(\u001b[0m\u001b[0mx_train\u001b[0m\u001b[1;33m,\u001b[0m \u001b[0my_train\u001b[0m\u001b[1;33m)\u001b[0m\u001b[1;33m\u001b[0m\u001b[1;33m\u001b[0m\u001b[0m\n\u001b[0m\u001b[0;32m      5\u001b[0m     \u001b[0mpreds\u001b[0m \u001b[1;33m=\u001b[0m \u001b[0mmodel_lr\u001b[0m\u001b[1;33m.\u001b[0m\u001b[0mpredict\u001b[0m\u001b[1;33m(\u001b[0m\u001b[0mx_test\u001b[0m\u001b[1;33m)\u001b[0m\u001b[1;33m\u001b[0m\u001b[1;33m\u001b[0m\u001b[0m\n\u001b[0;32m      6\u001b[0m     \u001b[1;32mreturn\u001b[0m \u001b[0maccuracy_score\u001b[0m\u001b[1;33m(\u001b[0m\u001b[0my_test\u001b[0m\u001b[1;33m,\u001b[0m \u001b[0mpreds\u001b[0m\u001b[1;33m)\u001b[0m\u001b[1;33m\u001b[0m\u001b[1;33m\u001b[0m\u001b[0m\n",
      "\u001b[1;32m~\\anaconda3\\lib\\site-packages\\sklearn\\linear_model\\_logistic.py\u001b[0m in \u001b[0;36mfit\u001b[1;34m(self, X, y, sample_weight)\u001b[0m\n\u001b[0;32m   1194\u001b[0m             \u001b[0m_dtype\u001b[0m \u001b[1;33m=\u001b[0m \u001b[1;33m[\u001b[0m\u001b[0mnp\u001b[0m\u001b[1;33m.\u001b[0m\u001b[0mfloat64\u001b[0m\u001b[1;33m,\u001b[0m \u001b[0mnp\u001b[0m\u001b[1;33m.\u001b[0m\u001b[0mfloat32\u001b[0m\u001b[1;33m]\u001b[0m\u001b[1;33m\u001b[0m\u001b[1;33m\u001b[0m\u001b[0m\n\u001b[0;32m   1195\u001b[0m \u001b[1;33m\u001b[0m\u001b[0m\n\u001b[1;32m-> 1196\u001b[1;33m         X, y = self._validate_data(\n\u001b[0m\u001b[0;32m   1197\u001b[0m             \u001b[0mX\u001b[0m\u001b[1;33m,\u001b[0m\u001b[1;33m\u001b[0m\u001b[1;33m\u001b[0m\u001b[0m\n\u001b[0;32m   1198\u001b[0m             \u001b[0my\u001b[0m\u001b[1;33m,\u001b[0m\u001b[1;33m\u001b[0m\u001b[1;33m\u001b[0m\u001b[0m\n",
      "\u001b[1;32m~\\anaconda3\\lib\\site-packages\\sklearn\\base.py\u001b[0m in \u001b[0;36m_validate_data\u001b[1;34m(self, X, y, reset, validate_separately, **check_params)\u001b[0m\n\u001b[0;32m    582\u001b[0m                 \u001b[0my\u001b[0m \u001b[1;33m=\u001b[0m \u001b[0mcheck_array\u001b[0m\u001b[1;33m(\u001b[0m\u001b[0my\u001b[0m\u001b[1;33m,\u001b[0m \u001b[0minput_name\u001b[0m\u001b[1;33m=\u001b[0m\u001b[1;34m\"y\"\u001b[0m\u001b[1;33m,\u001b[0m \u001b[1;33m**\u001b[0m\u001b[0mcheck_y_params\u001b[0m\u001b[1;33m)\u001b[0m\u001b[1;33m\u001b[0m\u001b[1;33m\u001b[0m\u001b[0m\n\u001b[0;32m    583\u001b[0m             \u001b[1;32melse\u001b[0m\u001b[1;33m:\u001b[0m\u001b[1;33m\u001b[0m\u001b[1;33m\u001b[0m\u001b[0m\n\u001b[1;32m--> 584\u001b[1;33m                 \u001b[0mX\u001b[0m\u001b[1;33m,\u001b[0m \u001b[0my\u001b[0m \u001b[1;33m=\u001b[0m \u001b[0mcheck_X_y\u001b[0m\u001b[1;33m(\u001b[0m\u001b[0mX\u001b[0m\u001b[1;33m,\u001b[0m \u001b[0my\u001b[0m\u001b[1;33m,\u001b[0m \u001b[1;33m**\u001b[0m\u001b[0mcheck_params\u001b[0m\u001b[1;33m)\u001b[0m\u001b[1;33m\u001b[0m\u001b[1;33m\u001b[0m\u001b[0m\n\u001b[0m\u001b[0;32m    585\u001b[0m             \u001b[0mout\u001b[0m \u001b[1;33m=\u001b[0m \u001b[0mX\u001b[0m\u001b[1;33m,\u001b[0m \u001b[0my\u001b[0m\u001b[1;33m\u001b[0m\u001b[1;33m\u001b[0m\u001b[0m\n\u001b[0;32m    586\u001b[0m \u001b[1;33m\u001b[0m\u001b[0m\n",
      "\u001b[1;32m~\\anaconda3\\lib\\site-packages\\sklearn\\utils\\validation.py\u001b[0m in \u001b[0;36mcheck_X_y\u001b[1;34m(X, y, accept_sparse, accept_large_sparse, dtype, order, copy, force_all_finite, ensure_2d, allow_nd, multi_output, ensure_min_samples, ensure_min_features, y_numeric, estimator)\u001b[0m\n\u001b[0;32m   1104\u001b[0m         )\n\u001b[0;32m   1105\u001b[0m \u001b[1;33m\u001b[0m\u001b[0m\n\u001b[1;32m-> 1106\u001b[1;33m     X = check_array(\n\u001b[0m\u001b[0;32m   1107\u001b[0m         \u001b[0mX\u001b[0m\u001b[1;33m,\u001b[0m\u001b[1;33m\u001b[0m\u001b[1;33m\u001b[0m\u001b[0m\n\u001b[0;32m   1108\u001b[0m         \u001b[0maccept_sparse\u001b[0m\u001b[1;33m=\u001b[0m\u001b[0maccept_sparse\u001b[0m\u001b[1;33m,\u001b[0m\u001b[1;33m\u001b[0m\u001b[1;33m\u001b[0m\u001b[0m\n",
      "\u001b[1;32m~\\anaconda3\\lib\\site-packages\\sklearn\\utils\\validation.py\u001b[0m in \u001b[0;36mcheck_array\u001b[1;34m(array, accept_sparse, accept_large_sparse, dtype, order, copy, force_all_finite, ensure_2d, allow_nd, ensure_min_samples, ensure_min_features, estimator, input_name)\u001b[0m\n\u001b[0;32m    877\u001b[0m                     \u001b[0marray\u001b[0m \u001b[1;33m=\u001b[0m \u001b[0mxp\u001b[0m\u001b[1;33m.\u001b[0m\u001b[0mastype\u001b[0m\u001b[1;33m(\u001b[0m\u001b[0marray\u001b[0m\u001b[1;33m,\u001b[0m \u001b[0mdtype\u001b[0m\u001b[1;33m,\u001b[0m \u001b[0mcopy\u001b[0m\u001b[1;33m=\u001b[0m\u001b[1;32mFalse\u001b[0m\u001b[1;33m)\u001b[0m\u001b[1;33m\u001b[0m\u001b[1;33m\u001b[0m\u001b[0m\n\u001b[0;32m    878\u001b[0m                 \u001b[1;32melse\u001b[0m\u001b[1;33m:\u001b[0m\u001b[1;33m\u001b[0m\u001b[1;33m\u001b[0m\u001b[0m\n\u001b[1;32m--> 879\u001b[1;33m                     \u001b[0marray\u001b[0m \u001b[1;33m=\u001b[0m \u001b[0m_asarray_with_order\u001b[0m\u001b[1;33m(\u001b[0m\u001b[0marray\u001b[0m\u001b[1;33m,\u001b[0m \u001b[0morder\u001b[0m\u001b[1;33m=\u001b[0m\u001b[0morder\u001b[0m\u001b[1;33m,\u001b[0m \u001b[0mdtype\u001b[0m\u001b[1;33m=\u001b[0m\u001b[0mdtype\u001b[0m\u001b[1;33m,\u001b[0m \u001b[0mxp\u001b[0m\u001b[1;33m=\u001b[0m\u001b[0mxp\u001b[0m\u001b[1;33m)\u001b[0m\u001b[1;33m\u001b[0m\u001b[1;33m\u001b[0m\u001b[0m\n\u001b[0m\u001b[0;32m    880\u001b[0m             \u001b[1;32mexcept\u001b[0m \u001b[0mComplexWarning\u001b[0m \u001b[1;32mas\u001b[0m \u001b[0mcomplex_warning\u001b[0m\u001b[1;33m:\u001b[0m\u001b[1;33m\u001b[0m\u001b[1;33m\u001b[0m\u001b[0m\n\u001b[0;32m    881\u001b[0m                 raise ValueError(\n",
      "\u001b[1;32m~\\anaconda3\\lib\\site-packages\\sklearn\\utils\\_array_api.py\u001b[0m in \u001b[0;36m_asarray_with_order\u001b[1;34m(array, dtype, order, copy, xp)\u001b[0m\n\u001b[0;32m    183\u001b[0m     \u001b[1;32mif\u001b[0m \u001b[0mxp\u001b[0m\u001b[1;33m.\u001b[0m\u001b[0m__name__\u001b[0m \u001b[1;32min\u001b[0m \u001b[1;33m{\u001b[0m\u001b[1;34m\"numpy\"\u001b[0m\u001b[1;33m,\u001b[0m \u001b[1;34m\"numpy.array_api\"\u001b[0m\u001b[1;33m}\u001b[0m\u001b[1;33m:\u001b[0m\u001b[1;33m\u001b[0m\u001b[1;33m\u001b[0m\u001b[0m\n\u001b[0;32m    184\u001b[0m         \u001b[1;31m# Use NumPy API to support order\u001b[0m\u001b[1;33m\u001b[0m\u001b[1;33m\u001b[0m\u001b[0m\n\u001b[1;32m--> 185\u001b[1;33m         \u001b[0marray\u001b[0m \u001b[1;33m=\u001b[0m \u001b[0mnumpy\u001b[0m\u001b[1;33m.\u001b[0m\u001b[0masarray\u001b[0m\u001b[1;33m(\u001b[0m\u001b[0marray\u001b[0m\u001b[1;33m,\u001b[0m \u001b[0morder\u001b[0m\u001b[1;33m=\u001b[0m\u001b[0morder\u001b[0m\u001b[1;33m,\u001b[0m \u001b[0mdtype\u001b[0m\u001b[1;33m=\u001b[0m\u001b[0mdtype\u001b[0m\u001b[1;33m)\u001b[0m\u001b[1;33m\u001b[0m\u001b[1;33m\u001b[0m\u001b[0m\n\u001b[0m\u001b[0;32m    186\u001b[0m         \u001b[1;32mreturn\u001b[0m \u001b[0mxp\u001b[0m\u001b[1;33m.\u001b[0m\u001b[0masarray\u001b[0m\u001b[1;33m(\u001b[0m\u001b[0marray\u001b[0m\u001b[1;33m,\u001b[0m \u001b[0mcopy\u001b[0m\u001b[1;33m=\u001b[0m\u001b[0mcopy\u001b[0m\u001b[1;33m)\u001b[0m\u001b[1;33m\u001b[0m\u001b[1;33m\u001b[0m\u001b[0m\n\u001b[0;32m    187\u001b[0m     \u001b[1;32melse\u001b[0m\u001b[1;33m:\u001b[0m\u001b[1;33m\u001b[0m\u001b[1;33m\u001b[0m\u001b[0m\n",
      "\u001b[1;32m~\\anaconda3\\lib\\site-packages\\numpy\\core\\_asarray.py\u001b[0m in \u001b[0;36masarray\u001b[1;34m(a, dtype, order, like)\u001b[0m\n\u001b[0;32m    100\u001b[0m         \u001b[1;32mreturn\u001b[0m \u001b[0m_asarray_with_like\u001b[0m\u001b[1;33m(\u001b[0m\u001b[0ma\u001b[0m\u001b[1;33m,\u001b[0m \u001b[0mdtype\u001b[0m\u001b[1;33m=\u001b[0m\u001b[0mdtype\u001b[0m\u001b[1;33m,\u001b[0m \u001b[0morder\u001b[0m\u001b[1;33m=\u001b[0m\u001b[0morder\u001b[0m\u001b[1;33m,\u001b[0m \u001b[0mlike\u001b[0m\u001b[1;33m=\u001b[0m\u001b[0mlike\u001b[0m\u001b[1;33m)\u001b[0m\u001b[1;33m\u001b[0m\u001b[1;33m\u001b[0m\u001b[0m\n\u001b[0;32m    101\u001b[0m \u001b[1;33m\u001b[0m\u001b[0m\n\u001b[1;32m--> 102\u001b[1;33m     \u001b[1;32mreturn\u001b[0m \u001b[0marray\u001b[0m\u001b[1;33m(\u001b[0m\u001b[0ma\u001b[0m\u001b[1;33m,\u001b[0m \u001b[0mdtype\u001b[0m\u001b[1;33m,\u001b[0m \u001b[0mcopy\u001b[0m\u001b[1;33m=\u001b[0m\u001b[1;32mFalse\u001b[0m\u001b[1;33m,\u001b[0m \u001b[0morder\u001b[0m\u001b[1;33m=\u001b[0m\u001b[0morder\u001b[0m\u001b[1;33m)\u001b[0m\u001b[1;33m\u001b[0m\u001b[1;33m\u001b[0m\u001b[0m\n\u001b[0m\u001b[0;32m    103\u001b[0m \u001b[1;33m\u001b[0m\u001b[0m\n\u001b[0;32m    104\u001b[0m \u001b[1;33m\u001b[0m\u001b[0m\n",
      "\u001b[1;32m~\\anaconda3\\lib\\site-packages\\pandas\\core\\generic.py\u001b[0m in \u001b[0;36m__array__\u001b[1;34m(self, dtype)\u001b[0m\n\u001b[0;32m   1991\u001b[0m \u001b[1;33m\u001b[0m\u001b[0m\n\u001b[0;32m   1992\u001b[0m     \u001b[1;32mdef\u001b[0m \u001b[0m__array__\u001b[0m\u001b[1;33m(\u001b[0m\u001b[0mself\u001b[0m\u001b[1;33m,\u001b[0m \u001b[0mdtype\u001b[0m\u001b[1;33m:\u001b[0m \u001b[0mNpDtype\u001b[0m \u001b[1;33m|\u001b[0m \u001b[1;32mNone\u001b[0m \u001b[1;33m=\u001b[0m \u001b[1;32mNone\u001b[0m\u001b[1;33m)\u001b[0m \u001b[1;33m->\u001b[0m \u001b[0mnp\u001b[0m\u001b[1;33m.\u001b[0m\u001b[0mndarray\u001b[0m\u001b[1;33m:\u001b[0m\u001b[1;33m\u001b[0m\u001b[1;33m\u001b[0m\u001b[0m\n\u001b[1;32m-> 1993\u001b[1;33m         \u001b[1;32mreturn\u001b[0m \u001b[0mnp\u001b[0m\u001b[1;33m.\u001b[0m\u001b[0masarray\u001b[0m\u001b[1;33m(\u001b[0m\u001b[0mself\u001b[0m\u001b[1;33m.\u001b[0m\u001b[0m_values\u001b[0m\u001b[1;33m,\u001b[0m \u001b[0mdtype\u001b[0m\u001b[1;33m=\u001b[0m\u001b[0mdtype\u001b[0m\u001b[1;33m)\u001b[0m\u001b[1;33m\u001b[0m\u001b[1;33m\u001b[0m\u001b[0m\n\u001b[0m\u001b[0;32m   1994\u001b[0m \u001b[1;33m\u001b[0m\u001b[0m\n\u001b[0;32m   1995\u001b[0m     def __array_wrap__(\n",
      "\u001b[1;32m~\\anaconda3\\lib\\site-packages\\numpy\\core\\_asarray.py\u001b[0m in \u001b[0;36masarray\u001b[1;34m(a, dtype, order, like)\u001b[0m\n\u001b[0;32m    100\u001b[0m         \u001b[1;32mreturn\u001b[0m \u001b[0m_asarray_with_like\u001b[0m\u001b[1;33m(\u001b[0m\u001b[0ma\u001b[0m\u001b[1;33m,\u001b[0m \u001b[0mdtype\u001b[0m\u001b[1;33m=\u001b[0m\u001b[0mdtype\u001b[0m\u001b[1;33m,\u001b[0m \u001b[0morder\u001b[0m\u001b[1;33m=\u001b[0m\u001b[0morder\u001b[0m\u001b[1;33m,\u001b[0m \u001b[0mlike\u001b[0m\u001b[1;33m=\u001b[0m\u001b[0mlike\u001b[0m\u001b[1;33m)\u001b[0m\u001b[1;33m\u001b[0m\u001b[1;33m\u001b[0m\u001b[0m\n\u001b[0;32m    101\u001b[0m \u001b[1;33m\u001b[0m\u001b[0m\n\u001b[1;32m--> 102\u001b[1;33m     \u001b[1;32mreturn\u001b[0m \u001b[0marray\u001b[0m\u001b[1;33m(\u001b[0m\u001b[0ma\u001b[0m\u001b[1;33m,\u001b[0m \u001b[0mdtype\u001b[0m\u001b[1;33m,\u001b[0m \u001b[0mcopy\u001b[0m\u001b[1;33m=\u001b[0m\u001b[1;32mFalse\u001b[0m\u001b[1;33m,\u001b[0m \u001b[0morder\u001b[0m\u001b[1;33m=\u001b[0m\u001b[0morder\u001b[0m\u001b[1;33m)\u001b[0m\u001b[1;33m\u001b[0m\u001b[1;33m\u001b[0m\u001b[0m\n\u001b[0m\u001b[0;32m    103\u001b[0m \u001b[1;33m\u001b[0m\u001b[0m\n\u001b[0;32m    104\u001b[0m \u001b[1;33m\u001b[0m\u001b[0m\n",
      "\u001b[1;31mValueError\u001b[0m: could not convert string to float: '0%'"
     ]
    }
   ],
   "source": [
    "#without feature selection\n",
    "\n",
    "\n",
    "print('lr - ', lr(x, y))\n",
    "print('dtc - ', dtc(x, y))\n",
    "print('rfc - ', rfc(x, y))\n",
    "print('knn - ', knn(x, y))\n",
    "# print('svm - ', svm(x, y))\n",
    "print('Naive Bayes - ', nb(x, y))\n",
    "print('XGB - ', xgbb(x, y))\n",
    "print('ADB - ', adb(x, y))\n",
    "print('MLP - ', mlp(x, y))\n",
    "print('GB - ', gb(x, y))"
   ]
  },
  {
   "cell_type": "code",
   "execution_count": null,
   "id": "0ee15bd8",
   "metadata": {},
   "outputs": [],
   "source": [
    "def ica(x, i):\n",
    "    ica = FastICA(n_components = i, random_state = 42)\n",
    "    data_ica = ica.fit_transform(x)\n",
    "    data_ica = pd.DataFrame(data_ica)\n",
    "    return data_ica"
   ]
  },
  {
   "cell_type": "code",
   "execution_count": null,
   "id": "601765cc",
   "metadata": {},
   "outputs": [],
   "source": [
    "def pca(x, i):\n",
    "    pca = decomposition.PCA(n_components = i, random_state=42)\n",
    "    data_pca = pca.fit_transform(x)\n",
    "    data_pca = pd.DataFrame(data_pca)\n",
    "    return data_pca"
   ]
  },
  {
   "cell_type": "code",
   "execution_count": null,
   "id": "5b1a479b",
   "metadata": {},
   "outputs": [],
   "source": [
    "def mi(x, y):\n",
    "    mi = sp(percentile = 50)\n",
    "    data_mi = mi.fit(x, y)\n",
    "    data_mi = mi.transform(x)\n",
    "    data_mi = pd.DataFrame(data_mi)\n",
    "    return data_mi"
   ]
  },
  {
   "cell_type": "code",
   "execution_count": null,
   "id": "da7cdb24",
   "metadata": {},
   "outputs": [],
   "source": [
    "def smf(x, y):\n",
    "    lasso_model = Lasso(alpha = 0.1)\n",
    "    selector = SelectFromModel(lasso_model)\n",
    "    X_selected = selector.fit_transform(x, y)\n",
    "    selected_features_indices = selector.get_support(indices=True)\n",
    "    selected_features_names = x.columns[selected_features_indices]\n",
    "    return x[selected_features_names]"
   ]
  },
  {
   "cell_type": "code",
   "execution_count": null,
   "id": "eb4f8331",
   "metadata": {},
   "outputs": [],
   "source": [
    "def sfs(x, y, model):\n",
    "    sfs_selector = SequentialFeatureSelector(model, forward = True, k_features = len(x.columns) // 2)\n",
    "    X_selected = sfs_selector.fit_transform(x, y)\n",
    "    selected_features_names = list(x.columns[sfs_selector.k_feature_idx_])\n",
    "    return x[selected_features_names]"
   ]
  },
  {
   "cell_type": "code",
   "execution_count": null,
   "id": "07ee3eb0",
   "metadata": {},
   "outputs": [],
   "source": [
    "def rfe(x, y, model):\n",
    "    rfecv_selector = RFECV(estimator = model, step = 1, cv = 5, scoring = 'accuracy')\n",
    "    X_selected = rfecv_selector.fit_transform(x, y)\n",
    "    selected_features_names = list(x.columns[rfecv_selector.support_])\n",
    "    return x[selected_features_names]"
   ]
  },
  {
   "cell_type": "code",
   "execution_count": null,
   "id": "7d43c854",
   "metadata": {},
   "outputs": [],
   "source": [
    "def cfs(x):\n",
    "    corr_matrix = x.corr()\n",
    "    high_corr_features = []\n",
    "    \n",
    "    for i in range(len(corr_matrix.columns)):\n",
    "        for j in range(i):\n",
    "            if abs(corr_matrix.iloc[i, j]) > 0.8:\n",
    "                colname = corr_matrix.columns[i]\n",
    "                high_corr_features.append(colname)\n",
    "\n",
    "    return x.drop(high_corr_features, axis=1)"
   ]
  },
  {
   "cell_type": "code",
   "execution_count": null,
   "id": "6e950f1b",
   "metadata": {},
   "outputs": [],
   "source": [
    "def fir(x, y):\n",
    "    rfc = RandomForestClassifier(n_estimators=100)\n",
    "    rfc.fit(x, y)\n",
    "    feature_importances = list(zip(x.columns, rfc.feature_importances_))\n",
    "    a = sorted(feature_importances, key=lambda x: x[1], reverse=True)\n",
    "    ls = []\n",
    "    for i in a[:len(a)//2 + 1]: ls.append(i[0])\n",
    "    return x[ls]"
   ]
  },
  {
   "cell_type": "code",
   "execution_count": null,
   "id": "485e1f11",
   "metadata": {
    "scrolled": true
   },
   "outputs": [],
   "source": [
    "data_ica = ica(x, len(x.columns) // 2)"
   ]
  },
  {
   "cell_type": "code",
   "execution_count": null,
   "id": "cd6c8c30",
   "metadata": {},
   "outputs": [],
   "source": [
    "data_pca = pca(x, len(x.columns) // 2)"
   ]
  },
  {
   "cell_type": "code",
   "execution_count": null,
   "id": "db52dee2",
   "metadata": {
    "scrolled": false
   },
   "outputs": [],
   "source": [
    "data_mi = mi(x, y)"
   ]
  },
  {
   "cell_type": "code",
   "execution_count": null,
   "id": "e4e3bd37",
   "metadata": {},
   "outputs": [],
   "source": [
    "data_smf = smf(x, y)"
   ]
  },
  {
   "cell_type": "code",
   "execution_count": null,
   "id": "86ff372c",
   "metadata": {},
   "outputs": [],
   "source": [
    "data_cfs = cfs(x)"
   ]
  },
  {
   "cell_type": "code",
   "execution_count": null,
   "id": "7823777b",
   "metadata": {},
   "outputs": [],
   "source": [
    "data_fir = fir(x, y)"
   ]
  },
  {
   "cell_type": "code",
   "execution_count": null,
   "id": "cd7f0d88",
   "metadata": {},
   "outputs": [],
   "source": [
    "#with feature selection ica\n",
    "\n",
    "\n",
    "print('lr - ', lr(data_ica, y))\n",
    "print('dtc - ', dtc(data_ica, y))\n",
    "print('rfc - ', rfc(data_ica, y))\n",
    "print('knn - ', knn(data_ica, y))\n",
    "# print('svm - ', svm(data_ica, y))\n",
    "print('Naive Bayes - ', nb(data_ica, y))\n",
    "print('XGB - ', xgbb(data_ica, y))\n",
    "print('ADB - ', adb(data_ica, y))\n",
    "print('MLP - ', mlp(data_ica, y))\n",
    "print('GB - ', gb(data_ica, y))"
   ]
  },
  {
   "cell_type": "code",
   "execution_count": null,
   "id": "359d2b27",
   "metadata": {
    "scrolled": false
   },
   "outputs": [],
   "source": [
    "#with feature selection pca\n",
    "\n",
    "\n",
    "print('lr - ', lr(data_pca, y))\n",
    "print('dtc - ', dtc(data_pca, y))\n",
    "print('rfc - ', rfc(data_pca, y))\n",
    "print('knn - ', knn(data_pca, y))\n",
    "# print('svm - ', svm(data_pca, y))\n",
    "print('Naive Bayes - ', nb(data_pca, y))\n",
    "print('XGB - ', xgbb(data_pca, y))\n",
    "print('ADB - ', adb(data_pca, y))\n",
    "print('MLP - ', mlp(data_pca, y))\n",
    "print('GB - ', gb(data_pca, y))"
   ]
  },
  {
   "cell_type": "code",
   "execution_count": null,
   "id": "51379613",
   "metadata": {
    "scrolled": true
   },
   "outputs": [],
   "source": [
    "#with feature selection mi\n",
    "\n",
    "\n",
    "print('lr - ', lr(data_mi, y))\n",
    "print('dtc - ', dtc(data_mi, y))\n",
    "print('rfc - ', rfc(data_mi, y))\n",
    "print('knn - ', knn(data_mi, y))\n",
    "# print('svm - ', svm(data_mi, y))\n",
    "print('Naive Bayes - ', nb(data_mi, y))\n",
    "print('XGB - ', xgbb(data_mi, y))\n",
    "print('ADB - ', adb(data_mi, y))\n",
    "print('MLP - ', mlp(data_mi, y))\n",
    "print('GB - ', gb(data_mi, y))"
   ]
  },
  {
   "cell_type": "code",
   "execution_count": null,
   "id": "b7d0891f",
   "metadata": {},
   "outputs": [],
   "source": [
    "#with feature selection smf\n",
    "\n",
    "\n",
    "print('lr - ', lr(data_smf, y))\n",
    "print('dtc - ', dtc(data_smf, y))\n",
    "print('rfc - ', rfc(data_smf, y))\n",
    "print('knn - ', knn(data_smf, y))\n",
    "# print('svm - ', svm(data_smf, y))\n",
    "print('Naive Bayes - ', nb(data_smf, y))\n",
    "print('XGB - ', xgbb(data_smf, y))\n",
    "print('ADB - ', adb(data_smf, y))\n",
    "print('MLP - ', mlp(data_smf, y))\n",
    "print('GB - ', gb(data_smf, y))"
   ]
  },
  {
   "cell_type": "code",
   "execution_count": null,
   "id": "8ac22044",
   "metadata": {},
   "outputs": [],
   "source": [
    "model_lr = LogisticRegression()\n",
    "model_dtc = DecisionTreeClassifier()\n",
    "model_rfc = RandomForestClassifier()\n",
    "model_knn = KNeighborsClassifier()\n",
    "model_svc = SVC(kernel = 'sigmoid')\n",
    "model_nb = GaussianNB()\n",
    "model_xgb = xgb.XGBClassifier()\n",
    "model_adb = AdaBoostClassifier()\n",
    "model_mlp = MLPClassifier()\n",
    "model_gb = GradientBoostingClassifier()"
   ]
  },
  {
   "cell_type": "code",
   "execution_count": null,
   "id": "778107f4",
   "metadata": {
    "scrolled": true
   },
   "outputs": [],
   "source": [
    "#with feature selection sfs\n",
    "\n",
    "\n",
    "print('lr - ', lr(sfs(x, y, model_lr), y))\n",
    "print('dtc - ', dtc(sfs(x, y, model_dtc), y))\n",
    "print('rfc - ', rfc(sfs(x, y, model_rfc), y))\n",
    "print('knn - ', knn(sfs(x, y, model_knn), y))\n",
    "# print('svm - ', svm(sfs(x, y, model_svc), y))\n",
    "print('Naive Bayes - ', nb(sfs(x, y, model_nb), y))\n",
    "print('XGB - ', xgbb(sfs(x, y, model_xgb), y))\n",
    "print('ADB - ', adb(sfs(x, y, model_adb), y))\n",
    "print('MLP - ', mlp(sfs(x, y, model_mlp), y))\n",
    "print('GB - ', gb(sfs(x, y, model_gb), y))"
   ]
  },
  {
   "cell_type": "code",
   "execution_count": null,
   "id": "73d1f8f0",
   "metadata": {
    "scrolled": true
   },
   "outputs": [],
   "source": [
    "#with feature selection rfe\n",
    "\n",
    "\n",
    "print('lr - ', lr(rfe(x, y, model_lr), y))\n",
    "print('dtc - ', dtc(rfe(x, y, model_dtc), y))\n",
    "print('rfc - ', rfc(rfe(x, y, model_rfc), y))\n",
    "print('knn - ', knn(rfe(x, y, model_knn), y))\n",
    "# print('svm - ', svm(rfe(x, y, model_svc), y))\n",
    "print('Naive Bayes - ', nb(rfe(x, y, model_nb), y))\n",
    "print('XGB - ', xgbb(rfe(x, y, model_xgb), y))\n",
    "print('ADB - ', adb(rfe(x, y, model_adb), y))\n",
    "print('MLP - ', mlp(rfe(x, y, model_mlp), y))\n",
    "print('GB - ', gb(rfe(x, y, model_gb), y))"
   ]
  },
  {
   "cell_type": "code",
   "execution_count": null,
   "id": "113b622e",
   "metadata": {},
   "outputs": [],
   "source": [
    "#with feature selection csf\n",
    "\n",
    "\n",
    "print('lr - ', lr(data_cfs, y))\n",
    "print('dtc - ', dtc(data_cfs, y))\n",
    "print('rfc - ', rfc(data_cfs, y))\n",
    "print('knn - ', knn(data_cfs, y))\n",
    "# print('svm - ', svm(data_cfs, y))\n",
    "print('Naive Bayes - ', nb(data_cfs, y))\n",
    "print('XGB - ', xgbb(data_cfs, y))\n",
    "print('ADB - ', adb(data_cfs, y))\n",
    "print('MLP - ', mlp(data_cfs, y))\n",
    "print('GB - ', gb(data_cfs, y))"
   ]
  },
  {
   "cell_type": "code",
   "execution_count": null,
   "id": "f2da76fc",
   "metadata": {},
   "outputs": [],
   "source": [
    "#with feature selection fir\n",
    "\n",
    "\n",
    "print('lr - ', lr(data_fir, y))\n",
    "print('dtc - ', dtc(data_fir, y))\n",
    "print('rfc - ', rfc(data_fir, y))\n",
    "print('knn - ', knn(data_fir, y))\n",
    "# print('svm - ', svm(data_fir, y))\n",
    "print('Naive Bayes - ', nb(data_fir, y))\n",
    "print('XGB - ', xgbb(data_fir, y))\n",
    "print('ADB - ', adb(data_fir, y))\n",
    "print('MLP - ', mlp(data_fir, y))\n",
    "print('GB - ', gb(data_fir, y))"
   ]
  }
 ],
 "metadata": {
  "kernelspec": {
   "display_name": "Python 3 (ipykernel)",
   "language": "python",
   "name": "python3"
  },
  "language_info": {
   "codemirror_mode": {
    "name": "ipython",
    "version": 3
   },
   "file_extension": ".py",
   "mimetype": "text/x-python",
   "name": "python",
   "nbconvert_exporter": "python",
   "pygments_lexer": "ipython3",
   "version": "3.9.7"
  }
 },
 "nbformat": 4,
 "nbformat_minor": 5
}
