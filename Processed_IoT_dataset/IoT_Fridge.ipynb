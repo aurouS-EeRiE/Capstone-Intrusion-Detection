{
 "cells": [
  {
   "cell_type": "code",
   "execution_count": 1,
   "id": "7f38eccf",
   "metadata": {},
   "outputs": [],
   "source": [
    "import numpy as np\n",
    "import pandas as pd\n",
    "from sklearn.preprocessing import OneHotEncoder\n",
    "from sklearn.model_selection import train_test_split\n",
    "from sklearn.preprocessing import StandardScaler\n",
    "from sklearn.linear_model import LogisticRegression\n",
    "from sklearn.ensemble import RandomForestClassifier\n",
    "from sklearn import preprocessing\n",
    "from sklearn.metrics import accuracy_score\n",
    "from sklearn.neighbors import KNeighborsClassifier\n",
    "from collections import Counter\n",
    "import matplotlib.pyplot as plt\n",
    "from sklearn.svm import SVC  \n",
    "from sklearn.naive_bayes import GaussianNB\n",
    "from sklearn.tree import DecisionTreeClassifier\n",
    "import xgboost as xgb\n",
    "from xgboost.sklearn import XGBClassifier\n",
    "from sklearn.neural_network import MLPClassifier\n",
    "from sklearn.decomposition import FastICA\n",
    "from sklearn.ensemble import AdaBoostClassifier\n",
    "from sklearn.ensemble import GradientBoostingClassifier\n",
    "from sklearn import decomposition\n",
    "from sklearn.feature_selection import SelectPercentile as sp\n",
    "from sklearn.feature_selection import SelectFromModel\n",
    "from sklearn.linear_model import Lasso\n",
    "from mlxtend.feature_selection import SequentialFeatureSelector\n",
    "from sklearn.feature_selection import RFECV"
   ]
  },
  {
   "cell_type": "code",
   "execution_count": 2,
   "id": "b15b80a2",
   "metadata": {},
   "outputs": [],
   "source": [
    "df = pd.read_csv('IoT_Fridge.csv')"
   ]
  },
  {
   "cell_type": "code",
   "execution_count": 3,
   "id": "3eb570ca",
   "metadata": {},
   "outputs": [
    {
     "data": {
      "text/html": [
       "<div>\n",
       "<style scoped>\n",
       "    .dataframe tbody tr th:only-of-type {\n",
       "        vertical-align: middle;\n",
       "    }\n",
       "\n",
       "    .dataframe tbody tr th {\n",
       "        vertical-align: top;\n",
       "    }\n",
       "\n",
       "    .dataframe thead th {\n",
       "        text-align: right;\n",
       "    }\n",
       "</style>\n",
       "<table border=\"1\" class=\"dataframe\">\n",
       "  <thead>\n",
       "    <tr style=\"text-align: right;\">\n",
       "      <th></th>\n",
       "      <th>date</th>\n",
       "      <th>time</th>\n",
       "      <th>fridge_temperature</th>\n",
       "      <th>temp_condition</th>\n",
       "      <th>label</th>\n",
       "      <th>type</th>\n",
       "    </tr>\n",
       "  </thead>\n",
       "  <tbody>\n",
       "    <tr>\n",
       "      <th>0</th>\n",
       "      <td>31-Mar-19</td>\n",
       "      <td>12:36:52</td>\n",
       "      <td>13.10</td>\n",
       "      <td>high</td>\n",
       "      <td>0</td>\n",
       "      <td>normal</td>\n",
       "    </tr>\n",
       "    <tr>\n",
       "      <th>1</th>\n",
       "      <td>31-Mar-19</td>\n",
       "      <td>12:36:53</td>\n",
       "      <td>8.65</td>\n",
       "      <td>high</td>\n",
       "      <td>0</td>\n",
       "      <td>normal</td>\n",
       "    </tr>\n",
       "    <tr>\n",
       "      <th>2</th>\n",
       "      <td>31-Mar-19</td>\n",
       "      <td>12:36:54</td>\n",
       "      <td>2.00</td>\n",
       "      <td>low</td>\n",
       "      <td>0</td>\n",
       "      <td>normal</td>\n",
       "    </tr>\n",
       "    <tr>\n",
       "      <th>3</th>\n",
       "      <td>31-Mar-19</td>\n",
       "      <td>12:36:55</td>\n",
       "      <td>4.80</td>\n",
       "      <td>low</td>\n",
       "      <td>0</td>\n",
       "      <td>normal</td>\n",
       "    </tr>\n",
       "    <tr>\n",
       "      <th>4</th>\n",
       "      <td>31-Mar-19</td>\n",
       "      <td>12:36:56</td>\n",
       "      <td>10.70</td>\n",
       "      <td>high</td>\n",
       "      <td>0</td>\n",
       "      <td>normal</td>\n",
       "    </tr>\n",
       "  </tbody>\n",
       "</table>\n",
       "</div>"
      ],
      "text/plain": [
       "        date            time  fridge_temperature temp_condition  label    type\n",
       "0  31-Mar-19     12:36:52                  13.10          high       0  normal\n",
       "1  31-Mar-19     12:36:53                   8.65          high       0  normal\n",
       "2  31-Mar-19     12:36:54                   2.00           low       0  normal\n",
       "3  31-Mar-19     12:36:55                   4.80           low       0  normal\n",
       "4  31-Mar-19     12:36:56                  10.70          high       0  normal"
      ]
     },
     "execution_count": 3,
     "metadata": {},
     "output_type": "execute_result"
    }
   ],
   "source": [
    "df.head()"
   ]
  },
  {
   "cell_type": "code",
   "execution_count": 4,
   "id": "72001869",
   "metadata": {},
   "outputs": [
    {
     "data": {
      "text/html": [
       "<div>\n",
       "<style scoped>\n",
       "    .dataframe tbody tr th:only-of-type {\n",
       "        vertical-align: middle;\n",
       "    }\n",
       "\n",
       "    .dataframe tbody tr th {\n",
       "        vertical-align: top;\n",
       "    }\n",
       "\n",
       "    .dataframe thead th {\n",
       "        text-align: right;\n",
       "    }\n",
       "</style>\n",
       "<table border=\"1\" class=\"dataframe\">\n",
       "  <thead>\n",
       "    <tr style=\"text-align: right;\">\n",
       "      <th></th>\n",
       "      <th>fridge_temperature</th>\n",
       "      <th>temp_condition</th>\n",
       "      <th>label</th>\n",
       "      <th>type</th>\n",
       "    </tr>\n",
       "  </thead>\n",
       "  <tbody>\n",
       "    <tr>\n",
       "      <th>0</th>\n",
       "      <td>13.10</td>\n",
       "      <td>high</td>\n",
       "      <td>0</td>\n",
       "      <td>normal</td>\n",
       "    </tr>\n",
       "    <tr>\n",
       "      <th>1</th>\n",
       "      <td>8.65</td>\n",
       "      <td>high</td>\n",
       "      <td>0</td>\n",
       "      <td>normal</td>\n",
       "    </tr>\n",
       "    <tr>\n",
       "      <th>2</th>\n",
       "      <td>2.00</td>\n",
       "      <td>low</td>\n",
       "      <td>0</td>\n",
       "      <td>normal</td>\n",
       "    </tr>\n",
       "    <tr>\n",
       "      <th>3</th>\n",
       "      <td>4.80</td>\n",
       "      <td>low</td>\n",
       "      <td>0</td>\n",
       "      <td>normal</td>\n",
       "    </tr>\n",
       "    <tr>\n",
       "      <th>4</th>\n",
       "      <td>10.70</td>\n",
       "      <td>high</td>\n",
       "      <td>0</td>\n",
       "      <td>normal</td>\n",
       "    </tr>\n",
       "    <tr>\n",
       "      <th>...</th>\n",
       "      <td>...</td>\n",
       "      <td>...</td>\n",
       "      <td>...</td>\n",
       "      <td>...</td>\n",
       "    </tr>\n",
       "    <tr>\n",
       "      <th>587071</th>\n",
       "      <td>4.00</td>\n",
       "      <td>low</td>\n",
       "      <td>0</td>\n",
       "      <td>normal</td>\n",
       "    </tr>\n",
       "    <tr>\n",
       "      <th>587072</th>\n",
       "      <td>6.05</td>\n",
       "      <td>high</td>\n",
       "      <td>0</td>\n",
       "      <td>normal</td>\n",
       "    </tr>\n",
       "    <tr>\n",
       "      <th>587073</th>\n",
       "      <td>12.80</td>\n",
       "      <td>high</td>\n",
       "      <td>0</td>\n",
       "      <td>normal</td>\n",
       "    </tr>\n",
       "    <tr>\n",
       "      <th>587074</th>\n",
       "      <td>6.50</td>\n",
       "      <td>high</td>\n",
       "      <td>0</td>\n",
       "      <td>normal</td>\n",
       "    </tr>\n",
       "    <tr>\n",
       "      <th>587075</th>\n",
       "      <td>5.30</td>\n",
       "      <td>low</td>\n",
       "      <td>0</td>\n",
       "      <td>normal</td>\n",
       "    </tr>\n",
       "  </tbody>\n",
       "</table>\n",
       "<p>587076 rows × 4 columns</p>\n",
       "</div>"
      ],
      "text/plain": [
       "        fridge_temperature temp_condition  label    type\n",
       "0                    13.10          high       0  normal\n",
       "1                     8.65          high       0  normal\n",
       "2                     2.00           low       0  normal\n",
       "3                     4.80           low       0  normal\n",
       "4                    10.70          high       0  normal\n",
       "...                    ...            ...    ...     ...\n",
       "587071                4.00            low      0  normal\n",
       "587072                6.05           high      0  normal\n",
       "587073               12.80           high      0  normal\n",
       "587074                6.50           high      0  normal\n",
       "587075                5.30            low      0  normal\n",
       "\n",
       "[587076 rows x 4 columns]"
      ]
     },
     "execution_count": 4,
     "metadata": {},
     "output_type": "execute_result"
    }
   ],
   "source": [
    "df = df.drop(['date', 'time'], axis = 1)\n",
    "df"
   ]
  },
  {
   "cell_type": "code",
   "execution_count": 5,
   "id": "03ce9e4d",
   "metadata": {},
   "outputs": [
    {
     "data": {
      "text/plain": [
       "fridge_temperature    0\n",
       "temp_condition        0\n",
       "label                 0\n",
       "type                  0\n",
       "dtype: int64"
      ]
     },
     "execution_count": 5,
     "metadata": {},
     "output_type": "execute_result"
    }
   ],
   "source": [
    "df.isnull().sum()"
   ]
  },
  {
   "cell_type": "code",
   "execution_count": 6,
   "id": "1d6a83be",
   "metadata": {},
   "outputs": [],
   "source": [
    "target = df.loc[:, ('type')]"
   ]
  },
  {
   "cell_type": "code",
   "execution_count": 7,
   "id": "e5b9d80c",
   "metadata": {},
   "outputs": [
    {
     "data": {
      "text/html": [
       "<div>\n",
       "<style scoped>\n",
       "    .dataframe tbody tr th:only-of-type {\n",
       "        vertical-align: middle;\n",
       "    }\n",
       "\n",
       "    .dataframe tbody tr th {\n",
       "        vertical-align: top;\n",
       "    }\n",
       "\n",
       "    .dataframe thead th {\n",
       "        text-align: right;\n",
       "    }\n",
       "</style>\n",
       "<table border=\"1\" class=\"dataframe\">\n",
       "  <thead>\n",
       "    <tr style=\"text-align: right;\">\n",
       "      <th></th>\n",
       "      <th>fridge_temperature</th>\n",
       "      <th>temp_condition</th>\n",
       "      <th>label</th>\n",
       "    </tr>\n",
       "  </thead>\n",
       "  <tbody>\n",
       "    <tr>\n",
       "      <th>0</th>\n",
       "      <td>13.10</td>\n",
       "      <td>high</td>\n",
       "      <td>0</td>\n",
       "    </tr>\n",
       "    <tr>\n",
       "      <th>1</th>\n",
       "      <td>8.65</td>\n",
       "      <td>high</td>\n",
       "      <td>0</td>\n",
       "    </tr>\n",
       "    <tr>\n",
       "      <th>2</th>\n",
       "      <td>2.00</td>\n",
       "      <td>low</td>\n",
       "      <td>0</td>\n",
       "    </tr>\n",
       "    <tr>\n",
       "      <th>3</th>\n",
       "      <td>4.80</td>\n",
       "      <td>low</td>\n",
       "      <td>0</td>\n",
       "    </tr>\n",
       "    <tr>\n",
       "      <th>4</th>\n",
       "      <td>10.70</td>\n",
       "      <td>high</td>\n",
       "      <td>0</td>\n",
       "    </tr>\n",
       "    <tr>\n",
       "      <th>...</th>\n",
       "      <td>...</td>\n",
       "      <td>...</td>\n",
       "      <td>...</td>\n",
       "    </tr>\n",
       "    <tr>\n",
       "      <th>587071</th>\n",
       "      <td>4.00</td>\n",
       "      <td>low</td>\n",
       "      <td>0</td>\n",
       "    </tr>\n",
       "    <tr>\n",
       "      <th>587072</th>\n",
       "      <td>6.05</td>\n",
       "      <td>high</td>\n",
       "      <td>0</td>\n",
       "    </tr>\n",
       "    <tr>\n",
       "      <th>587073</th>\n",
       "      <td>12.80</td>\n",
       "      <td>high</td>\n",
       "      <td>0</td>\n",
       "    </tr>\n",
       "    <tr>\n",
       "      <th>587074</th>\n",
       "      <td>6.50</td>\n",
       "      <td>high</td>\n",
       "      <td>0</td>\n",
       "    </tr>\n",
       "    <tr>\n",
       "      <th>587075</th>\n",
       "      <td>5.30</td>\n",
       "      <td>low</td>\n",
       "      <td>0</td>\n",
       "    </tr>\n",
       "  </tbody>\n",
       "</table>\n",
       "<p>587076 rows × 3 columns</p>\n",
       "</div>"
      ],
      "text/plain": [
       "        fridge_temperature temp_condition  label\n",
       "0                    13.10          high       0\n",
       "1                     8.65          high       0\n",
       "2                     2.00           low       0\n",
       "3                     4.80           low       0\n",
       "4                    10.70          high       0\n",
       "...                    ...            ...    ...\n",
       "587071                4.00            low      0\n",
       "587072                6.05           high      0\n",
       "587073               12.80           high      0\n",
       "587074                6.50           high      0\n",
       "587075                5.30            low      0\n",
       "\n",
       "[587076 rows x 3 columns]"
      ]
     },
     "execution_count": 7,
     "metadata": {},
     "output_type": "execute_result"
    }
   ],
   "source": [
    "df = df.drop('type', axis = 1)\n",
    "df"
   ]
  },
  {
   "cell_type": "code",
   "execution_count": 8,
   "id": "0a327fe4",
   "metadata": {},
   "outputs": [
    {
     "data": {
      "text/html": [
       "<div>\n",
       "<style scoped>\n",
       "    .dataframe tbody tr th:only-of-type {\n",
       "        vertical-align: middle;\n",
       "    }\n",
       "\n",
       "    .dataframe tbody tr th {\n",
       "        vertical-align: top;\n",
       "    }\n",
       "\n",
       "    .dataframe thead th {\n",
       "        text-align: right;\n",
       "    }\n",
       "</style>\n",
       "<table border=\"1\" class=\"dataframe\">\n",
       "  <thead>\n",
       "    <tr style=\"text-align: right;\">\n",
       "      <th></th>\n",
       "      <th>temp_condition</th>\n",
       "      <th>label</th>\n",
       "    </tr>\n",
       "  </thead>\n",
       "  <tbody>\n",
       "    <tr>\n",
       "      <th>0</th>\n",
       "      <td>high</td>\n",
       "      <td>0</td>\n",
       "    </tr>\n",
       "    <tr>\n",
       "      <th>1</th>\n",
       "      <td>high</td>\n",
       "      <td>0</td>\n",
       "    </tr>\n",
       "    <tr>\n",
       "      <th>2</th>\n",
       "      <td>low</td>\n",
       "      <td>0</td>\n",
       "    </tr>\n",
       "    <tr>\n",
       "      <th>3</th>\n",
       "      <td>low</td>\n",
       "      <td>0</td>\n",
       "    </tr>\n",
       "    <tr>\n",
       "      <th>4</th>\n",
       "      <td>high</td>\n",
       "      <td>0</td>\n",
       "    </tr>\n",
       "    <tr>\n",
       "      <th>...</th>\n",
       "      <td>...</td>\n",
       "      <td>...</td>\n",
       "    </tr>\n",
       "    <tr>\n",
       "      <th>587071</th>\n",
       "      <td>low</td>\n",
       "      <td>0</td>\n",
       "    </tr>\n",
       "    <tr>\n",
       "      <th>587072</th>\n",
       "      <td>high</td>\n",
       "      <td>0</td>\n",
       "    </tr>\n",
       "    <tr>\n",
       "      <th>587073</th>\n",
       "      <td>high</td>\n",
       "      <td>0</td>\n",
       "    </tr>\n",
       "    <tr>\n",
       "      <th>587074</th>\n",
       "      <td>high</td>\n",
       "      <td>0</td>\n",
       "    </tr>\n",
       "    <tr>\n",
       "      <th>587075</th>\n",
       "      <td>low</td>\n",
       "      <td>0</td>\n",
       "    </tr>\n",
       "  </tbody>\n",
       "</table>\n",
       "<p>587076 rows × 2 columns</p>\n",
       "</div>"
      ],
      "text/plain": [
       "       temp_condition  label\n",
       "0               high       0\n",
       "1               high       0\n",
       "2                low       0\n",
       "3                low       0\n",
       "4               high       0\n",
       "...               ...    ...\n",
       "587071            low      0\n",
       "587072           high      0\n",
       "587073           high      0\n",
       "587074           high      0\n",
       "587075            low      0\n",
       "\n",
       "[587076 rows x 2 columns]"
      ]
     },
     "execution_count": 8,
     "metadata": {},
     "output_type": "execute_result"
    }
   ],
   "source": [
    "cat = []\n",
    "for i in df.columns:\n",
    "    if len(df[i].unique()) <= 20: cat.append(i)\n",
    "df_cat = df[cat]\n",
    "df_cat"
   ]
  },
  {
   "cell_type": "code",
   "execution_count": 9,
   "id": "534b8758",
   "metadata": {},
   "outputs": [
    {
     "data": {
      "text/html": [
       "<div>\n",
       "<style scoped>\n",
       "    .dataframe tbody tr th:only-of-type {\n",
       "        vertical-align: middle;\n",
       "    }\n",
       "\n",
       "    .dataframe tbody tr th {\n",
       "        vertical-align: top;\n",
       "    }\n",
       "\n",
       "    .dataframe thead th {\n",
       "        text-align: right;\n",
       "    }\n",
       "</style>\n",
       "<table border=\"1\" class=\"dataframe\">\n",
       "  <thead>\n",
       "    <tr style=\"text-align: right;\">\n",
       "      <th></th>\n",
       "      <th>fridge_temperature</th>\n",
       "    </tr>\n",
       "  </thead>\n",
       "  <tbody>\n",
       "    <tr>\n",
       "      <th>0</th>\n",
       "      <td>13.10</td>\n",
       "    </tr>\n",
       "    <tr>\n",
       "      <th>1</th>\n",
       "      <td>8.65</td>\n",
       "    </tr>\n",
       "    <tr>\n",
       "      <th>2</th>\n",
       "      <td>2.00</td>\n",
       "    </tr>\n",
       "    <tr>\n",
       "      <th>3</th>\n",
       "      <td>4.80</td>\n",
       "    </tr>\n",
       "    <tr>\n",
       "      <th>4</th>\n",
       "      <td>10.70</td>\n",
       "    </tr>\n",
       "    <tr>\n",
       "      <th>...</th>\n",
       "      <td>...</td>\n",
       "    </tr>\n",
       "    <tr>\n",
       "      <th>587071</th>\n",
       "      <td>4.00</td>\n",
       "    </tr>\n",
       "    <tr>\n",
       "      <th>587072</th>\n",
       "      <td>6.05</td>\n",
       "    </tr>\n",
       "    <tr>\n",
       "      <th>587073</th>\n",
       "      <td>12.80</td>\n",
       "    </tr>\n",
       "    <tr>\n",
       "      <th>587074</th>\n",
       "      <td>6.50</td>\n",
       "    </tr>\n",
       "    <tr>\n",
       "      <th>587075</th>\n",
       "      <td>5.30</td>\n",
       "    </tr>\n",
       "  </tbody>\n",
       "</table>\n",
       "<p>587076 rows × 1 columns</p>\n",
       "</div>"
      ],
      "text/plain": [
       "        fridge_temperature\n",
       "0                    13.10\n",
       "1                     8.65\n",
       "2                     2.00\n",
       "3                     4.80\n",
       "4                    10.70\n",
       "...                    ...\n",
       "587071                4.00\n",
       "587072                6.05\n",
       "587073               12.80\n",
       "587074                6.50\n",
       "587075                5.30\n",
       "\n",
       "[587076 rows x 1 columns]"
      ]
     },
     "execution_count": 9,
     "metadata": {},
     "output_type": "execute_result"
    }
   ],
   "source": [
    "df_temp = df.drop(cat, axis = 1)\n",
    "df_temp"
   ]
  },
  {
   "cell_type": "code",
   "execution_count": 10,
   "id": "b0db2159",
   "metadata": {},
   "outputs": [
    {
     "data": {
      "text/html": [
       "<div>\n",
       "<style scoped>\n",
       "    .dataframe tbody tr th:only-of-type {\n",
       "        vertical-align: middle;\n",
       "    }\n",
       "\n",
       "    .dataframe tbody tr th {\n",
       "        vertical-align: top;\n",
       "    }\n",
       "\n",
       "    .dataframe thead th {\n",
       "        text-align: right;\n",
       "    }\n",
       "</style>\n",
       "<table border=\"1\" class=\"dataframe\">\n",
       "  <thead>\n",
       "    <tr style=\"text-align: right;\">\n",
       "      <th></th>\n",
       "      <th>fridge_temperature</th>\n",
       "      <th>temp_condition</th>\n",
       "      <th>label</th>\n",
       "    </tr>\n",
       "  </thead>\n",
       "  <tbody>\n",
       "    <tr>\n",
       "      <th>0</th>\n",
       "      <td>1.642293</td>\n",
       "      <td>high</td>\n",
       "      <td>0</td>\n",
       "    </tr>\n",
       "    <tr>\n",
       "      <th>1</th>\n",
       "      <td>0.414644</td>\n",
       "      <td>high</td>\n",
       "      <td>0</td>\n",
       "    </tr>\n",
       "    <tr>\n",
       "      <th>2</th>\n",
       "      <td>-1.419933</td>\n",
       "      <td>low</td>\n",
       "      <td>0</td>\n",
       "    </tr>\n",
       "    <tr>\n",
       "      <th>3</th>\n",
       "      <td>-0.647480</td>\n",
       "      <td>low</td>\n",
       "      <td>0</td>\n",
       "    </tr>\n",
       "    <tr>\n",
       "      <th>4</th>\n",
       "      <td>0.980190</td>\n",
       "      <td>high</td>\n",
       "      <td>0</td>\n",
       "    </tr>\n",
       "    <tr>\n",
       "      <th>...</th>\n",
       "      <td>...</td>\n",
       "      <td>...</td>\n",
       "      <td>...</td>\n",
       "    </tr>\n",
       "    <tr>\n",
       "      <th>587071</th>\n",
       "      <td>-0.868180</td>\n",
       "      <td>low</td>\n",
       "      <td>0</td>\n",
       "    </tr>\n",
       "    <tr>\n",
       "      <th>587072</th>\n",
       "      <td>-0.302634</td>\n",
       "      <td>high</td>\n",
       "      <td>0</td>\n",
       "    </tr>\n",
       "    <tr>\n",
       "      <th>587073</th>\n",
       "      <td>1.559530</td>\n",
       "      <td>high</td>\n",
       "      <td>0</td>\n",
       "    </tr>\n",
       "    <tr>\n",
       "      <th>587074</th>\n",
       "      <td>-0.178490</td>\n",
       "      <td>high</td>\n",
       "      <td>0</td>\n",
       "    </tr>\n",
       "    <tr>\n",
       "      <th>587075</th>\n",
       "      <td>-0.509541</td>\n",
       "      <td>low</td>\n",
       "      <td>0</td>\n",
       "    </tr>\n",
       "  </tbody>\n",
       "</table>\n",
       "<p>587076 rows × 3 columns</p>\n",
       "</div>"
      ],
      "text/plain": [
       "        fridge_temperature temp_condition  label\n",
       "0                 1.642293          high       0\n",
       "1                 0.414644          high       0\n",
       "2                -1.419933           low       0\n",
       "3                -0.647480           low       0\n",
       "4                 0.980190          high       0\n",
       "...                    ...            ...    ...\n",
       "587071           -0.868180            low      0\n",
       "587072           -0.302634           high      0\n",
       "587073            1.559530           high      0\n",
       "587074           -0.178490           high      0\n",
       "587075           -0.509541            low      0\n",
       "\n",
       "[587076 rows x 3 columns]"
      ]
     },
     "execution_count": 10,
     "metadata": {},
     "output_type": "execute_result"
    }
   ],
   "source": [
    "scaler = StandardScaler()\n",
    "df[df_temp.columns] = scaler.fit_transform(df[df_temp.columns])\n",
    "df"
   ]
  },
  {
   "cell_type": "code",
   "execution_count": 11,
   "id": "b1306de6",
   "metadata": {},
   "outputs": [
    {
     "data": {
      "text/html": [
       "<div>\n",
       "<style scoped>\n",
       "    .dataframe tbody tr th:only-of-type {\n",
       "        vertical-align: middle;\n",
       "    }\n",
       "\n",
       "    .dataframe tbody tr th {\n",
       "        vertical-align: top;\n",
       "    }\n",
       "\n",
       "    .dataframe thead th {\n",
       "        text-align: right;\n",
       "    }\n",
       "</style>\n",
       "<table border=\"1\" class=\"dataframe\">\n",
       "  <thead>\n",
       "    <tr style=\"text-align: right;\">\n",
       "      <th></th>\n",
       "      <th>fridge_temperature</th>\n",
       "      <th>temp_condition</th>\n",
       "      <th>label</th>\n",
       "    </tr>\n",
       "  </thead>\n",
       "  <tbody>\n",
       "    <tr>\n",
       "      <th>0</th>\n",
       "      <td>1.642293</td>\n",
       "      <td>1</td>\n",
       "      <td>0</td>\n",
       "    </tr>\n",
       "    <tr>\n",
       "      <th>1</th>\n",
       "      <td>0.414644</td>\n",
       "      <td>1</td>\n",
       "      <td>0</td>\n",
       "    </tr>\n",
       "    <tr>\n",
       "      <th>2</th>\n",
       "      <td>-1.419933</td>\n",
       "      <td>4</td>\n",
       "      <td>0</td>\n",
       "    </tr>\n",
       "    <tr>\n",
       "      <th>3</th>\n",
       "      <td>-0.647480</td>\n",
       "      <td>4</td>\n",
       "      <td>0</td>\n",
       "    </tr>\n",
       "    <tr>\n",
       "      <th>4</th>\n",
       "      <td>0.980190</td>\n",
       "      <td>1</td>\n",
       "      <td>0</td>\n",
       "    </tr>\n",
       "    <tr>\n",
       "      <th>...</th>\n",
       "      <td>...</td>\n",
       "      <td>...</td>\n",
       "      <td>...</td>\n",
       "    </tr>\n",
       "    <tr>\n",
       "      <th>587071</th>\n",
       "      <td>-0.868180</td>\n",
       "      <td>3</td>\n",
       "      <td>0</td>\n",
       "    </tr>\n",
       "    <tr>\n",
       "      <th>587072</th>\n",
       "      <td>-0.302634</td>\n",
       "      <td>0</td>\n",
       "      <td>0</td>\n",
       "    </tr>\n",
       "    <tr>\n",
       "      <th>587073</th>\n",
       "      <td>1.559530</td>\n",
       "      <td>0</td>\n",
       "      <td>0</td>\n",
       "    </tr>\n",
       "    <tr>\n",
       "      <th>587074</th>\n",
       "      <td>-0.178490</td>\n",
       "      <td>0</td>\n",
       "      <td>0</td>\n",
       "    </tr>\n",
       "    <tr>\n",
       "      <th>587075</th>\n",
       "      <td>-0.509541</td>\n",
       "      <td>3</td>\n",
       "      <td>0</td>\n",
       "    </tr>\n",
       "  </tbody>\n",
       "</table>\n",
       "<p>587076 rows × 3 columns</p>\n",
       "</div>"
      ],
      "text/plain": [
       "        fridge_temperature  temp_condition  label\n",
       "0                 1.642293               1      0\n",
       "1                 0.414644               1      0\n",
       "2                -1.419933               4      0\n",
       "3                -0.647480               4      0\n",
       "4                 0.980190               1      0\n",
       "...                    ...             ...    ...\n",
       "587071           -0.868180               3      0\n",
       "587072           -0.302634               0      0\n",
       "587073            1.559530               0      0\n",
       "587074           -0.178490               0      0\n",
       "587075           -0.509541               3      0\n",
       "\n",
       "[587076 rows x 3 columns]"
      ]
     },
     "execution_count": 11,
     "metadata": {},
     "output_type": "execute_result"
    }
   ],
   "source": [
    "label_encoder = preprocessing.LabelEncoder()\n",
    "df['temp_condition'] = label_encoder.fit_transform(df['temp_condition'])\n",
    "df"
   ]
  },
  {
   "cell_type": "code",
   "execution_count": 12,
   "id": "7ac338b3",
   "metadata": {},
   "outputs": [
    {
     "data": {
      "text/plain": [
       "fridge_temperature    0\n",
       "temp_condition        0\n",
       "label                 0\n",
       "dtype: int64"
      ]
     },
     "execution_count": 12,
     "metadata": {},
     "output_type": "execute_result"
    }
   ],
   "source": [
    "df.isnull().sum()"
   ]
  },
  {
   "cell_type": "code",
   "execution_count": 13,
   "id": "58e74014",
   "metadata": {},
   "outputs": [
    {
     "data": {
      "text/plain": [
       "array(['normal', 'backdoor', 'ddos', 'injection', 'password',\n",
       "       'ransomware', 'xss'], dtype=object)"
      ]
     },
     "execution_count": 13,
     "metadata": {},
     "output_type": "execute_result"
    }
   ],
   "source": [
    "target.unique()"
   ]
  },
  {
   "cell_type": "code",
   "execution_count": 14,
   "id": "2dee2bbe",
   "metadata": {},
   "outputs": [],
   "source": [
    "target = label_encoder.fit_transform(target)"
   ]
  },
  {
   "cell_type": "code",
   "execution_count": 15,
   "id": "e237f91c",
   "metadata": {},
   "outputs": [
    {
     "data": {
      "text/html": [
       "<div>\n",
       "<style scoped>\n",
       "    .dataframe tbody tr th:only-of-type {\n",
       "        vertical-align: middle;\n",
       "    }\n",
       "\n",
       "    .dataframe tbody tr th {\n",
       "        vertical-align: top;\n",
       "    }\n",
       "\n",
       "    .dataframe thead th {\n",
       "        text-align: right;\n",
       "    }\n",
       "</style>\n",
       "<table border=\"1\" class=\"dataframe\">\n",
       "  <thead>\n",
       "    <tr style=\"text-align: right;\">\n",
       "      <th></th>\n",
       "      <th>0</th>\n",
       "    </tr>\n",
       "  </thead>\n",
       "  <tbody>\n",
       "    <tr>\n",
       "      <th>0</th>\n",
       "      <td>3</td>\n",
       "    </tr>\n",
       "    <tr>\n",
       "      <th>1</th>\n",
       "      <td>3</td>\n",
       "    </tr>\n",
       "    <tr>\n",
       "      <th>2</th>\n",
       "      <td>3</td>\n",
       "    </tr>\n",
       "    <tr>\n",
       "      <th>3</th>\n",
       "      <td>3</td>\n",
       "    </tr>\n",
       "    <tr>\n",
       "      <th>4</th>\n",
       "      <td>3</td>\n",
       "    </tr>\n",
       "    <tr>\n",
       "      <th>...</th>\n",
       "      <td>...</td>\n",
       "    </tr>\n",
       "    <tr>\n",
       "      <th>587071</th>\n",
       "      <td>3</td>\n",
       "    </tr>\n",
       "    <tr>\n",
       "      <th>587072</th>\n",
       "      <td>3</td>\n",
       "    </tr>\n",
       "    <tr>\n",
       "      <th>587073</th>\n",
       "      <td>3</td>\n",
       "    </tr>\n",
       "    <tr>\n",
       "      <th>587074</th>\n",
       "      <td>3</td>\n",
       "    </tr>\n",
       "    <tr>\n",
       "      <th>587075</th>\n",
       "      <td>3</td>\n",
       "    </tr>\n",
       "  </tbody>\n",
       "</table>\n",
       "<p>587076 rows × 1 columns</p>\n",
       "</div>"
      ],
      "text/plain": [
       "        0\n",
       "0       3\n",
       "1       3\n",
       "2       3\n",
       "3       3\n",
       "4       3\n",
       "...    ..\n",
       "587071  3\n",
       "587072  3\n",
       "587073  3\n",
       "587074  3\n",
       "587075  3\n",
       "\n",
       "[587076 rows x 1 columns]"
      ]
     },
     "execution_count": 15,
     "metadata": {},
     "output_type": "execute_result"
    }
   ],
   "source": [
    "target = pd.DataFrame(target)\n",
    "target"
   ]
  },
  {
   "cell_type": "code",
   "execution_count": 16,
   "id": "0434d672",
   "metadata": {},
   "outputs": [],
   "source": [
    "def lr(x, y):\n",
    "    x_train, x_test, y_train, y_test = train_test_split(x, y, test_size = 0.3, random_state = 43)\n",
    "    model_lr = LogisticRegression()\n",
    "    model_lr.fit(x_train, y_train)\n",
    "    preds = model_lr.predict(x_test)\n",
    "    return accuracy_score(y_test, preds)"
   ]
  },
  {
   "cell_type": "code",
   "execution_count": 17,
   "id": "38a0a3a5",
   "metadata": {},
   "outputs": [],
   "source": [
    "def dtc(x, y):\n",
    "    x_train, x_test, y_train, y_test = train_test_split(x, y, test_size = 0.3, random_state = 43)\n",
    "    model_dtc = DecisionTreeClassifier()   \n",
    "    model_dtc.fit(x_train, y_train)\n",
    "    preds = model_dtc.predict(x_test)\n",
    "    return accuracy_score(y_test, preds)"
   ]
  },
  {
   "cell_type": "code",
   "execution_count": 18,
   "id": "0d6547e1",
   "metadata": {},
   "outputs": [],
   "source": [
    "def rfc(x, y):\n",
    "    x_train, x_test, y_train, y_test = train_test_split(x, y, test_size = 0.3, random_state = 43)\n",
    "    model_rfc = RandomForestClassifier()    \n",
    "    model_rfc.fit(x_train, y_train)\n",
    "    preds = model_rfc.predict(x_test)\n",
    "    return accuracy_score(y_test, preds)"
   ]
  },
  {
   "cell_type": "code",
   "execution_count": 19,
   "id": "c6eac526",
   "metadata": {},
   "outputs": [],
   "source": [
    "def knn(x, y):\n",
    "    x_train, x_test, y_train, y_test = train_test_split(x, y, test_size = 0.3, random_state = 43)\n",
    "    model_knn = KNeighborsClassifier()\n",
    "    model_knn.fit(x_train, y_train)\n",
    "    preds = model_knn.predict(x_test)\n",
    "    return accuracy_score(y_test, preds)"
   ]
  },
  {
   "cell_type": "code",
   "execution_count": 20,
   "id": "17c71336",
   "metadata": {},
   "outputs": [],
   "source": [
    "def svm(x, y):\n",
    "    x_train, x_test, y_train, y_test = train_test_split(x, y, test_size = 0.3, random_state = 43)\n",
    "    model_svm = SVC(kernel = 'sigmoid')\n",
    "    model_svm.fit(x_train, y_train) \n",
    "    preds = model_svm.predict(x_test)\n",
    "    return accuracy_score(y_test, preds)"
   ]
  },
  {
   "cell_type": "code",
   "execution_count": 21,
   "id": "6944fb2a",
   "metadata": {},
   "outputs": [],
   "source": [
    "def nb(x, y):\n",
    "    x_train, x_test, y_train, y_test = train_test_split(x, y, test_size = 0.3, random_state = 43)\n",
    "    model_nb = GaussianNB()\n",
    "    model_nb.fit(x_train, y_train)\n",
    "    preds = model_nb.predict(x_test)\n",
    "    return accuracy_score(y_test, preds)"
   ]
  },
  {
   "cell_type": "code",
   "execution_count": 22,
   "id": "bf287fe5",
   "metadata": {},
   "outputs": [],
   "source": [
    "def xgbb(x, y):\n",
    "    x_train, x_test, y_train, y_test = train_test_split(x, y, test_size = 0.3, random_state = 43)\n",
    "    model_xgb = xgb.XGBClassifier()\n",
    "    model_xgb.fit(x_train, y_train)\n",
    "    preds = model_xgb.predict(x_test)\n",
    "    return accuracy_score(y_test, preds)"
   ]
  },
  {
   "cell_type": "code",
   "execution_count": 23,
   "id": "eb34fa1a",
   "metadata": {},
   "outputs": [],
   "source": [
    "def adb(x, y):\n",
    "    x_train, x_test, y_train, y_test = train_test_split(x, y, test_size = 0.3, random_state = 43)\n",
    "    model_adb = AdaBoostClassifier()\n",
    "    model_adb.fit(x_train, y_train)\n",
    "    preds = model_adb.predict(x_test)\n",
    "    return accuracy_score(y_test, preds)"
   ]
  },
  {
   "cell_type": "code",
   "execution_count": 24,
   "id": "d2ccbff7",
   "metadata": {},
   "outputs": [],
   "source": [
    "def mlp(x, y):\n",
    "    x_train, x_test, y_train, y_test = train_test_split(x, y, test_size = 0.3, random_state = 43)\n",
    "    model_mlp = MLPClassifier()    \n",
    "    model_mlp.fit(x_train, y_train)\n",
    "    preds = model_mlp.predict(x_test)\n",
    "    return accuracy_score(y_test, preds)"
   ]
  },
  {
   "cell_type": "code",
   "execution_count": 25,
   "id": "7689c15b",
   "metadata": {},
   "outputs": [],
   "source": [
    "def gb(x, y):\n",
    "    x_train, x_test, y_train, y_test = train_test_split(x, y, test_size = 0.3, random_state = 43)\n",
    "    model_mlp = GradientBoostingClassifier() \n",
    "    model_mlp.fit(x_train, y_train)\n",
    "    preds = model_mlp.predict(x_test)\n",
    "    return accuracy_score(y_test, preds)"
   ]
  },
  {
   "cell_type": "code",
   "execution_count": 26,
   "id": "a40f1746",
   "metadata": {},
   "outputs": [],
   "source": [
    "x = df\n",
    "y = target[0]"
   ]
  },
  {
   "cell_type": "code",
   "execution_count": 27,
   "id": "352334a0",
   "metadata": {},
   "outputs": [],
   "source": [
    "x.columns = x.columns.astype('str')"
   ]
  },
  {
   "cell_type": "code",
   "execution_count": 28,
   "id": "25d4d41b",
   "metadata": {
    "scrolled": false
   },
   "outputs": [
    {
     "name": "stderr",
     "output_type": "stream",
     "text": [
      "C:\\Users\\serev\\anaconda3\\lib\\site-packages\\sklearn\\linear_model\\_logistic.py:458: ConvergenceWarning: lbfgs failed to converge (status=1):\n",
      "STOP: TOTAL NO. of ITERATIONS REACHED LIMIT.\n",
      "\n",
      "Increase the number of iterations (max_iter) or scale the data as shown in:\n",
      "    https://scikit-learn.org/stable/modules/preprocessing.html\n",
      "Please also refer to the documentation for alternative solver options:\n",
      "    https://scikit-learn.org/stable/modules/linear_model.html#logistic-regression\n",
      "  n_iter_i = _check_optimize_result(\n"
     ]
    },
    {
     "name": "stdout",
     "output_type": "stream",
     "text": [
      "lr -  0.9127257655161449\n",
      "dtc -  0.9123907723579544\n",
      "rfc -  0.9123907723579544\n",
      "knn -  0.9056454863930321\n",
      "Naive Bayes -  0.9127257655161449\n",
      "XGB -  0.9123907723579544\n",
      "ADB -  0.9127257655161449\n",
      "MLP -  0.9127257655161449\n",
      "GB -  0.9127257655161449\n"
     ]
    }
   ],
   "source": [
    "#without feature selection\n",
    "\n",
    "\n",
    "print('lr - ', lr(x, y))\n",
    "print('dtc - ', dtc(x, y))\n",
    "print('rfc - ', rfc(x, y))\n",
    "print('knn - ', knn(x, y))\n",
    "# print('svm - ', svm(x, y))\n",
    "print('Naive Bayes - ', nb(x, y))\n",
    "print('XGB - ', xgbb(x, y))\n",
    "print('ADB - ', adb(x, y))\n",
    "print('MLP - ', mlp(x, y))\n",
    "print('GB - ', gb(x, y))"
   ]
  },
  {
   "cell_type": "code",
   "execution_count": 29,
   "id": "2fd3db75",
   "metadata": {
    "scrolled": true
   },
   "outputs": [],
   "source": [
    "def ica(x, i):\n",
    "    ica = FastICA(n_components = i, random_state = 42)\n",
    "    data_ica = ica.fit_transform(x)\n",
    "    data_ica = pd.DataFrame(data_ica)\n",
    "    return data_ica"
   ]
  },
  {
   "cell_type": "code",
   "execution_count": 30,
   "id": "3e35c6a5",
   "metadata": {
    "scrolled": false
   },
   "outputs": [],
   "source": [
    "def pca(x, i):\n",
    "    pca = decomposition.PCA(n_components = i, random_state=42)\n",
    "    data_pca = pca.fit_transform(x)\n",
    "    data_pca = pd.DataFrame(data_pca)\n",
    "    return data_pca"
   ]
  },
  {
   "cell_type": "code",
   "execution_count": 46,
   "id": "f2910bf8",
   "metadata": {},
   "outputs": [],
   "source": [
    "def mi(x, y):\n",
    "    mi = sp(percentile = 90)\n",
    "    data_mi = mi.fit(x, y)\n",
    "    data_mi = mi.transform(x)\n",
    "    data_mi = pd.DataFrame(data_mi)\n",
    "    return data_mi"
   ]
  },
  {
   "cell_type": "code",
   "execution_count": 32,
   "id": "25e9d88d",
   "metadata": {},
   "outputs": [],
   "source": [
    "def smf(x, y):\n",
    "    lasso_model = Lasso(alpha = 0.1)\n",
    "    selector = SelectFromModel(lasso_model)\n",
    "    X_selected = selector.fit_transform(x, y)\n",
    "    selected_features_indices = selector.get_support(indices=True)\n",
    "    selected_features_names = x.columns[selected_features_indices]\n",
    "    return x[selected_features_names]"
   ]
  },
  {
   "cell_type": "code",
   "execution_count": 33,
   "id": "c5b1f8ff",
   "metadata": {
    "scrolled": true
   },
   "outputs": [],
   "source": [
    "def sfs(x, y, model):\n",
    "    sfs_selector = SequentialFeatureSelector(model, forward = True, k_features = 6)\n",
    "    X_selected = sfs_selector.fit_transform(x, y)\n",
    "    selected_features_names = list(x.columns[sfs_selector.k_feature_idx_])\n",
    "    return x[selected_features_names]"
   ]
  },
  {
   "cell_type": "code",
   "execution_count": 34,
   "id": "e084cf51",
   "metadata": {},
   "outputs": [],
   "source": [
    "def rfe(x, y, model):\n",
    "    rfecv_selector = RFECV(estimator = model, step = 1, cv = 5, scoring = 'accuracy')\n",
    "    X_selected = rfecv_selector.fit_transform(x, y)\n",
    "    selected_features_names = list(x.columns[rfecv_selector.support_])\n",
    "    return x[selected_features_names]"
   ]
  },
  {
   "cell_type": "code",
   "execution_count": 35,
   "id": "42797649",
   "metadata": {},
   "outputs": [],
   "source": [
    "def cfs(x):\n",
    "    corr_matrix = x.corr()\n",
    "    high_corr_features = []\n",
    "    \n",
    "    for i in range(len(corr_matrix.columns)):\n",
    "        for j in range(i):\n",
    "            if abs(corr_matrix.iloc[i, j]) > 0.8:\n",
    "                colname = corr_matrix.columns[i]\n",
    "                high_corr_features.append(colname)\n",
    "\n",
    "    return x.drop(high_corr_features, axis=1)"
   ]
  },
  {
   "cell_type": "code",
   "execution_count": 36,
   "id": "13cdf994",
   "metadata": {},
   "outputs": [],
   "source": [
    "def fir(x, y):\n",
    "    rfc = RandomForestClassifier(n_estimators=100)\n",
    "    rfc.fit(x, y)\n",
    "    feature_importances = list(zip(x.columns, rfc.feature_importances_))\n",
    "    a = sorted(feature_importances, key=lambda x: x[1], reverse=True)\n",
    "    ls = []\n",
    "    for i in a[:len(a)//2 + 1]: ls.append(i[0])\n",
    "    return x[ls]"
   ]
  },
  {
   "cell_type": "code",
   "execution_count": 37,
   "id": "12e970f9",
   "metadata": {},
   "outputs": [
    {
     "name": "stderr",
     "output_type": "stream",
     "text": [
      "C:\\Users\\serev\\anaconda3\\lib\\site-packages\\sklearn\\decomposition\\_fastica.py:542: FutureWarning: Starting in v1.3, whiten='unit-variance' will be used by default.\n",
      "  warnings.warn(\n"
     ]
    }
   ],
   "source": [
    "data_ica = ica(x, len(x.columns) // 2)"
   ]
  },
  {
   "cell_type": "code",
   "execution_count": 38,
   "id": "5dd1a5d9",
   "metadata": {},
   "outputs": [],
   "source": [
    "data_pca = pca(x, len(x.columns) // 2)"
   ]
  },
  {
   "cell_type": "code",
   "execution_count": 47,
   "id": "a04b0138",
   "metadata": {
    "scrolled": true
   },
   "outputs": [
    {
     "name": "stderr",
     "output_type": "stream",
     "text": [
      "C:\\Users\\serev\\anaconda3\\lib\\site-packages\\sklearn\\feature_selection\\_univariate_selection.py:113: RuntimeWarning: divide by zero encountered in true_divide\n",
      "  f = msb / msw\n"
     ]
    }
   ],
   "source": [
    "data_mi = mi(x, y)"
   ]
  },
  {
   "cell_type": "code",
   "execution_count": 40,
   "id": "1e7807d4",
   "metadata": {},
   "outputs": [],
   "source": [
    "data_smf = smf(x, y)"
   ]
  },
  {
   "cell_type": "code",
   "execution_count": 41,
   "id": "19046707",
   "metadata": {},
   "outputs": [],
   "source": [
    "data_cfs = cfs(x)"
   ]
  },
  {
   "cell_type": "code",
   "execution_count": 42,
   "id": "d0caf12c",
   "metadata": {},
   "outputs": [],
   "source": [
    "data_fir = fir(x, y)"
   ]
  },
  {
   "cell_type": "code",
   "execution_count": 43,
   "id": "360665ab",
   "metadata": {},
   "outputs": [
    {
     "name": "stdout",
     "output_type": "stream",
     "text": [
      "lr -  0.8530118156061389\n",
      "dtc -  0.8816849588071972\n",
      "rfc -  0.8816963145074749\n",
      "knn -  0.904106789005411\n",
      "Naive Bayes -  0.8530118156061389\n",
      "XGB -  0.9087626261192462\n",
      "ADB -  0.8612674097079882\n",
      "MLP -  0.8530118156061389\n",
      "GB -  0.8656677435655763\n"
     ]
    }
   ],
   "source": [
    "#with feature selection ica\n",
    "\n",
    "\n",
    "print('lr - ', lr(data_ica, y))\n",
    "print('dtc - ', dtc(data_ica, y))\n",
    "print('rfc - ', rfc(data_ica, y))\n",
    "print('knn - ', knn(data_ica, y))\n",
    "# print('svm - ', svm(data_ica, y))\n",
    "print('Naive Bayes - ', nb(data_ica, y))\n",
    "print('XGB - ', xgbb(data_ica, y))\n",
    "print('ADB - ', adb(data_ica, y))\n",
    "print('MLP - ', mlp(data_ica, y))\n",
    "print('GB - ', gb(data_ica, y))"
   ]
  },
  {
   "cell_type": "code",
   "execution_count": 44,
   "id": "91e9f9d7",
   "metadata": {
    "scrolled": true
   },
   "outputs": [
    {
     "name": "stdout",
     "output_type": "stream",
     "text": [
      "lr -  0.8530118156061389\n",
      "dtc -  0.9123907723579544\n",
      "rfc -  0.9123283160064273\n",
      "knn -  0.904106789005411\n",
      "Naive Bayes -  0.8530118156061389\n",
      "XGB -  0.9087626261192462\n",
      "ADB -  0.8616137585664564\n",
      "MLP -  0.8530118156061389\n",
      "GB -  0.8668657699448681\n"
     ]
    }
   ],
   "source": [
    "#with feature selection pca\n",
    "\n",
    "\n",
    "print('lr - ', lr(data_pca, y))\n",
    "print('dtc - ', dtc(data_pca, y))\n",
    "print('rfc - ', rfc(data_pca, y))\n",
    "print('knn - ', knn(data_pca, y))\n",
    "# print('svm - ', svm(data_pca, y))\n",
    "print('Naive Bayes - ', nb(data_pca, y))\n",
    "print('XGB - ', xgbb(data_pca, y))\n",
    "print('ADB - ', adb(data_pca, y))\n",
    "print('MLP - ', mlp(data_pca, y))\n",
    "print('GB - ', gb(data_pca, y))"
   ]
  },
  {
   "cell_type": "code",
   "execution_count": 48,
   "id": "a98e9304",
   "metadata": {},
   "outputs": [
    {
     "name": "stderr",
     "output_type": "stream",
     "text": [
      "C:\\Users\\serev\\anaconda3\\lib\\site-packages\\sklearn\\linear_model\\_logistic.py:458: ConvergenceWarning: lbfgs failed to converge (status=1):\n",
      "STOP: TOTAL NO. of ITERATIONS REACHED LIMIT.\n",
      "\n",
      "Increase the number of iterations (max_iter) or scale the data as shown in:\n",
      "    https://scikit-learn.org/stable/modules/preprocessing.html\n",
      "Please also refer to the documentation for alternative solver options:\n",
      "    https://scikit-learn.org/stable/modules/linear_model.html#logistic-regression\n",
      "  n_iter_i = _check_optimize_result(\n"
     ]
    },
    {
     "name": "stdout",
     "output_type": "stream",
     "text": [
      "lr -  0.9127257655161449\n",
      "dtc -  0.9127257655161449\n",
      "rfc -  0.9127257655161449\n",
      "knn -  0.9127257655161449\n",
      "Naive Bayes -  0.9127257655161449\n",
      "XGB -  0.9127257655161449\n",
      "ADB -  0.9127257655161449\n",
      "MLP -  0.9127257655161449\n",
      "GB -  0.9127257655161449\n"
     ]
    }
   ],
   "source": [
    "#with feature selection mi\n",
    "\n",
    "\n",
    "print('lr - ', lr(data_mi, y))\n",
    "print('dtc - ', dtc(data_mi, y))\n",
    "print('rfc - ', rfc(data_mi, y))\n",
    "print('knn - ', knn(data_mi, y))\n",
    "# print('svm - ', svm(data_mi, y))\n",
    "print('Naive Bayes - ', nb(data_mi, y))\n",
    "print('XGB - ', xgbb(data_mi, y))\n",
    "print('ADB - ', adb(data_mi, y))\n",
    "print('MLP - ', mlp(data_mi, y))\n",
    "print('GB - ', gb(data_mi, y))"
   ]
  },
  {
   "cell_type": "code",
   "execution_count": 49,
   "id": "5d4450ce",
   "metadata": {},
   "outputs": [
    {
     "name": "stderr",
     "output_type": "stream",
     "text": [
      "C:\\Users\\serev\\anaconda3\\lib\\site-packages\\sklearn\\linear_model\\_logistic.py:458: ConvergenceWarning: lbfgs failed to converge (status=1):\n",
      "STOP: TOTAL NO. of ITERATIONS REACHED LIMIT.\n",
      "\n",
      "Increase the number of iterations (max_iter) or scale the data as shown in:\n",
      "    https://scikit-learn.org/stable/modules/preprocessing.html\n",
      "Please also refer to the documentation for alternative solver options:\n",
      "    https://scikit-learn.org/stable/modules/linear_model.html#logistic-regression\n",
      "  n_iter_i = _check_optimize_result(\n"
     ]
    },
    {
     "name": "stdout",
     "output_type": "stream",
     "text": [
      "lr -  0.9127257655161449\n",
      "dtc -  0.9127257655161449\n",
      "rfc -  0.9127257655161449\n",
      "knn -  0.9127257655161449\n",
      "Naive Bayes -  0.9127257655161449\n",
      "XGB -  0.9127257655161449\n",
      "ADB -  0.9127257655161449\n",
      "MLP -  0.9127257655161449\n",
      "GB -  0.9127257655161449\n"
     ]
    }
   ],
   "source": [
    "#with feature selection smf\n",
    "\n",
    "\n",
    "print('lr - ', lr(data_smf, y))\n",
    "print('dtc - ', dtc(data_smf, y))\n",
    "print('rfc - ', rfc(data_smf, y))\n",
    "print('knn - ', knn(data_smf, y))\n",
    "# print('svm - ', svm(data_smf, y))\n",
    "print('Naive Bayes - ', nb(data_smf, y))\n",
    "print('XGB - ', xgbb(data_smf, y))\n",
    "print('ADB - ', adb(data_smf, y))\n",
    "print('MLP - ', mlp(data_smf, y))\n",
    "print('GB - ', gb(data_smf, y))"
   ]
  },
  {
   "cell_type": "code",
   "execution_count": 50,
   "id": "d2571075",
   "metadata": {},
   "outputs": [],
   "source": [
    "# #with feature selection sfs\n",
    "\n",
    "\n",
    "# print('lr - ', lr(sfs(x, y, LogisticRegression()), y))\n",
    "# print('dtc - ', dtc(sfs(x, y, DecisionTreeClassifier()), y))\n",
    "# print('rfc - ', rfc(sfs(x, y, RandomForestClassifier()), y))\n",
    "# print('knn - ', knn(sfs(x, y, KNeighborsClassifier()), y))\n",
    "# # print('svm - ', svm(sfs(x, y, SVC(kernel = 'sigmoid')), y))\n",
    "# print('Naive Bayes - ', nb(sfs(x, y, GaussianNB()), y))\n",
    "# print('XGB - ', xgbb(sfs(x, y, xgb.XGBClassifier()), y))\n",
    "# print('ADB - ', adb(sfs(x, y, AdaBoostClassifier()), y))\n",
    "# print('MLP - ', mlp(sfs(x, y, MLPClassifier()), y))\n",
    "# print('GB - ', gb(sfs(x, y, GradientBoostingClassifier()), y))"
   ]
  },
  {
   "cell_type": "code",
   "execution_count": 51,
   "id": "ad9512b9",
   "metadata": {},
   "outputs": [],
   "source": [
    "# #with feature selection rfe\n",
    "\n",
    "\n",
    "# print('lr - ', lr(rfe(x, y, LogisticRegression()), y))\n",
    "# print('dtc - ', dtc(rfe(x, y, DecisionTreeClassifier()), y))\n",
    "# print('rfc - ', rfc(rfe(x, y, RandomForestClassifier()), y))\n",
    "# print('knn - ', knn(rfe(x, y, KNeighborsClassifier()), y))\n",
    "# # print('svm - ', svm(rfe(x, y, SVC(kernel = 'sigmoid')), y))\n",
    "# print('Naive Bayes - ', nb(rfe(x, y, GaussianNB()), y))\n",
    "# print('XGB - ', xgbb(rfe(x, y, xgb.XGBClassifier()), y))\n",
    "# print('ADB - ', adb(rfe(x, y, AdaBoostClassifier()), y))\n",
    "# print('MLP - ', mlp(rfe(x, y, MLPClassifier()), y))\n",
    "# print('GB - ', gb(rfe(x, y, GradientBoostingClassifier()), y))"
   ]
  },
  {
   "cell_type": "code",
   "execution_count": 52,
   "id": "cd53de0f",
   "metadata": {
    "scrolled": false
   },
   "outputs": [
    {
     "name": "stderr",
     "output_type": "stream",
     "text": [
      "C:\\Users\\serev\\anaconda3\\lib\\site-packages\\sklearn\\linear_model\\_logistic.py:458: ConvergenceWarning: lbfgs failed to converge (status=1):\n",
      "STOP: TOTAL NO. of ITERATIONS REACHED LIMIT.\n",
      "\n",
      "Increase the number of iterations (max_iter) or scale the data as shown in:\n",
      "    https://scikit-learn.org/stable/modules/preprocessing.html\n",
      "Please also refer to the documentation for alternative solver options:\n",
      "    https://scikit-learn.org/stable/modules/linear_model.html#logistic-regression\n",
      "  n_iter_i = _check_optimize_result(\n"
     ]
    },
    {
     "name": "stdout",
     "output_type": "stream",
     "text": [
      "lr -  0.9127257655161449\n",
      "dtc -  0.9123907723579544\n",
      "rfc -  0.9121920476030956\n",
      "knn -  0.9056454863930321\n",
      "Naive Bayes -  0.9127257655161449\n",
      "XGB -  0.9123907723579544\n",
      "ADB -  0.9127257655161449\n",
      "MLP -  0.9127257655161449\n",
      "GB -  0.9127257655161449\n"
     ]
    }
   ],
   "source": [
    "#with feature selection csf\n",
    "\n",
    "\n",
    "print('lr - ', lr(data_cfs, y))\n",
    "print('dtc - ', dtc(data_cfs, y))\n",
    "print('rfc - ', rfc(data_cfs, y))\n",
    "print('knn - ', knn(data_cfs, y))\n",
    "# print('svm - ', svm(data_cfs, y))\n",
    "print('Naive Bayes - ', nb(data_cfs, y))\n",
    "print('XGB - ', xgbb(data_cfs, y))\n",
    "print('ADB - ', adb(data_cfs, y))\n",
    "print('MLP - ', mlp(data_cfs, y))\n",
    "print('GB - ', gb(data_cfs, y))"
   ]
  },
  {
   "cell_type": "code",
   "execution_count": 53,
   "id": "39ea0c5d",
   "metadata": {},
   "outputs": [
    {
     "name": "stderr",
     "output_type": "stream",
     "text": [
      "C:\\Users\\serev\\anaconda3\\lib\\site-packages\\sklearn\\linear_model\\_logistic.py:458: ConvergenceWarning: lbfgs failed to converge (status=1):\n",
      "STOP: TOTAL NO. of ITERATIONS REACHED LIMIT.\n",
      "\n",
      "Increase the number of iterations (max_iter) or scale the data as shown in:\n",
      "    https://scikit-learn.org/stable/modules/preprocessing.html\n",
      "Please also refer to the documentation for alternative solver options:\n",
      "    https://scikit-learn.org/stable/modules/linear_model.html#logistic-regression\n",
      "  n_iter_i = _check_optimize_result(\n"
     ]
    },
    {
     "name": "stdout",
     "output_type": "stream",
     "text": [
      "lr -  0.9127257655161449\n",
      "dtc -  0.9127257655161449\n",
      "rfc -  0.9127257655161449\n",
      "knn -  0.9127257655161449\n",
      "Naive Bayes -  0.9127257655161449\n",
      "XGB -  0.9127257655161449\n",
      "ADB -  0.9127257655161449\n",
      "MLP -  0.9127257655161449\n",
      "GB -  0.9127257655161449\n"
     ]
    }
   ],
   "source": [
    "#with feature selection fir\n",
    "\n",
    "\n",
    "print('lr - ', lr(data_fir, y))\n",
    "print('dtc - ', dtc(data_fir, y))\n",
    "print('rfc - ', rfc(data_fir, y))\n",
    "print('knn - ', knn(data_fir, y))\n",
    "# print('svm - ', svm(data_fir, y))\n",
    "print('Naive Bayes - ', nb(data_fir, y))\n",
    "print('XGB - ', xgbb(data_fir, y))\n",
    "print('ADB - ', adb(data_fir, y))\n",
    "print('MLP - ', mlp(data_fir, y))\n",
    "print('GB - ', gb(data_fir, y))"
   ]
  },
  {
   "cell_type": "code",
   "execution_count": null,
   "id": "84564737",
   "metadata": {},
   "outputs": [],
   "source": []
  }
 ],
 "metadata": {
  "kernelspec": {
   "display_name": "Python 3 (ipykernel)",
   "language": "python",
   "name": "python3"
  },
  "language_info": {
   "codemirror_mode": {
    "name": "ipython",
    "version": 3
   },
   "file_extension": ".py",
   "mimetype": "text/x-python",
   "name": "python",
   "nbconvert_exporter": "python",
   "pygments_lexer": "ipython3",
   "version": "3.9.7"
  }
 },
 "nbformat": 4,
 "nbformat_minor": 5
}
