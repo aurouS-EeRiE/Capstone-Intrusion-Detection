{
 "cells": [
  {
   "cell_type": "code",
   "execution_count": 1,
   "id": "7f38eccf",
   "metadata": {},
   "outputs": [],
   "source": [
    "import numpy as np\n",
    "import pandas as pd\n",
    "from sklearn.preprocessing import OneHotEncoder\n",
    "from sklearn.model_selection import train_test_split\n",
    "from sklearn.preprocessing import StandardScaler\n",
    "from sklearn.linear_model import LogisticRegression\n",
    "from sklearn.ensemble import RandomForestClassifier\n",
    "from sklearn import preprocessing\n",
    "from sklearn.metrics import accuracy_score\n",
    "from sklearn.neighbors import KNeighborsClassifier\n",
    "from collections import Counter\n",
    "import matplotlib.pyplot as plt\n",
    "from sklearn.svm import SVC  \n",
    "from sklearn.naive_bayes import GaussianNB\n",
    "from sklearn.tree import DecisionTreeClassifier\n",
    "import xgboost as xgb\n",
    "from xgboost.sklearn import XGBClassifier\n",
    "from sklearn.neural_network import MLPClassifier\n",
    "from sklearn.decomposition import FastICA\n",
    "from sklearn.ensemble import AdaBoostClassifier\n",
    "from sklearn.ensemble import GradientBoostingClassifier\n",
    "from sklearn import decomposition\n",
    "from sklearn.feature_selection import SelectPercentile as sp\n",
    "from sklearn.feature_selection import SelectFromModel\n",
    "from sklearn.linear_model import Lasso\n",
    "from mlxtend.feature_selection import SequentialFeatureSelector\n",
    "from sklearn.feature_selection import RFECV"
   ]
  },
  {
   "cell_type": "code",
   "execution_count": 2,
   "id": "b15b80a2",
   "metadata": {},
   "outputs": [],
   "source": [
    "df = pd.read_csv('IoT_Thermostat.csv')"
   ]
  },
  {
   "cell_type": "code",
   "execution_count": 3,
   "id": "71f9f3dd",
   "metadata": {},
   "outputs": [
    {
     "data": {
      "text/plain": [
       "{'divide': 'warn', 'over': 'warn', 'under': 'ignore', 'invalid': 'warn'}"
      ]
     },
     "execution_count": 3,
     "metadata": {},
     "output_type": "execute_result"
    }
   ],
   "source": [
    "np.seterr(divide='ignore', invalid='ignore')"
   ]
  },
  {
   "cell_type": "code",
   "execution_count": 4,
   "id": "3eb570ca",
   "metadata": {},
   "outputs": [
    {
     "data": {
      "text/html": [
       "<div>\n",
       "<style scoped>\n",
       "    .dataframe tbody tr th:only-of-type {\n",
       "        vertical-align: middle;\n",
       "    }\n",
       "\n",
       "    .dataframe tbody tr th {\n",
       "        vertical-align: top;\n",
       "    }\n",
       "\n",
       "    .dataframe thead th {\n",
       "        text-align: right;\n",
       "    }\n",
       "</style>\n",
       "<table border=\"1\" class=\"dataframe\">\n",
       "  <thead>\n",
       "    <tr style=\"text-align: right;\">\n",
       "      <th></th>\n",
       "      <th>date</th>\n",
       "      <th>time</th>\n",
       "      <th>current_temperature</th>\n",
       "      <th>thermostat_status</th>\n",
       "      <th>label</th>\n",
       "      <th>type</th>\n",
       "    </tr>\n",
       "  </thead>\n",
       "  <tbody>\n",
       "    <tr>\n",
       "      <th>0</th>\n",
       "      <td>31-Mar-19</td>\n",
       "      <td>12:36:52</td>\n",
       "      <td>25.0</td>\n",
       "      <td>0</td>\n",
       "      <td>0</td>\n",
       "      <td>normal</td>\n",
       "    </tr>\n",
       "    <tr>\n",
       "      <th>1</th>\n",
       "      <td>31-Mar-19</td>\n",
       "      <td>12:36:53</td>\n",
       "      <td>25.0</td>\n",
       "      <td>0</td>\n",
       "      <td>0</td>\n",
       "      <td>normal</td>\n",
       "    </tr>\n",
       "    <tr>\n",
       "      <th>2</th>\n",
       "      <td>31-Mar-19</td>\n",
       "      <td>12:36:54</td>\n",
       "      <td>25.0</td>\n",
       "      <td>0</td>\n",
       "      <td>0</td>\n",
       "      <td>normal</td>\n",
       "    </tr>\n",
       "    <tr>\n",
       "      <th>3</th>\n",
       "      <td>31-Mar-19</td>\n",
       "      <td>12:36:55</td>\n",
       "      <td>25.0</td>\n",
       "      <td>0</td>\n",
       "      <td>0</td>\n",
       "      <td>normal</td>\n",
       "    </tr>\n",
       "    <tr>\n",
       "      <th>4</th>\n",
       "      <td>31-Mar-19</td>\n",
       "      <td>12:36:56</td>\n",
       "      <td>25.0</td>\n",
       "      <td>0</td>\n",
       "      <td>0</td>\n",
       "      <td>normal</td>\n",
       "    </tr>\n",
       "  </tbody>\n",
       "</table>\n",
       "</div>"
      ],
      "text/plain": [
       "        date      time  current_temperature  thermostat_status  label    type\n",
       "0  31-Mar-19  12:36:52                 25.0                  0      0  normal\n",
       "1  31-Mar-19  12:36:53                 25.0                  0      0  normal\n",
       "2  31-Mar-19  12:36:54                 25.0                  0      0  normal\n",
       "3  31-Mar-19  12:36:55                 25.0                  0      0  normal\n",
       "4  31-Mar-19  12:36:56                 25.0                  0      0  normal"
      ]
     },
     "execution_count": 4,
     "metadata": {},
     "output_type": "execute_result"
    }
   ],
   "source": [
    "df.head()"
   ]
  },
  {
   "cell_type": "code",
   "execution_count": 5,
   "id": "72001869",
   "metadata": {},
   "outputs": [
    {
     "data": {
      "text/html": [
       "<div>\n",
       "<style scoped>\n",
       "    .dataframe tbody tr th:only-of-type {\n",
       "        vertical-align: middle;\n",
       "    }\n",
       "\n",
       "    .dataframe tbody tr th {\n",
       "        vertical-align: top;\n",
       "    }\n",
       "\n",
       "    .dataframe thead th {\n",
       "        text-align: right;\n",
       "    }\n",
       "</style>\n",
       "<table border=\"1\" class=\"dataframe\">\n",
       "  <thead>\n",
       "    <tr style=\"text-align: right;\">\n",
       "      <th></th>\n",
       "      <th>current_temperature</th>\n",
       "      <th>thermostat_status</th>\n",
       "      <th>label</th>\n",
       "      <th>type</th>\n",
       "    </tr>\n",
       "  </thead>\n",
       "  <tbody>\n",
       "    <tr>\n",
       "      <th>0</th>\n",
       "      <td>25.000000</td>\n",
       "      <td>0</td>\n",
       "      <td>0</td>\n",
       "      <td>normal</td>\n",
       "    </tr>\n",
       "    <tr>\n",
       "      <th>1</th>\n",
       "      <td>25.000000</td>\n",
       "      <td>0</td>\n",
       "      <td>0</td>\n",
       "      <td>normal</td>\n",
       "    </tr>\n",
       "    <tr>\n",
       "      <th>2</th>\n",
       "      <td>25.000000</td>\n",
       "      <td>0</td>\n",
       "      <td>0</td>\n",
       "      <td>normal</td>\n",
       "    </tr>\n",
       "    <tr>\n",
       "      <th>3</th>\n",
       "      <td>25.000000</td>\n",
       "      <td>0</td>\n",
       "      <td>0</td>\n",
       "      <td>normal</td>\n",
       "    </tr>\n",
       "    <tr>\n",
       "      <th>4</th>\n",
       "      <td>25.000000</td>\n",
       "      <td>0</td>\n",
       "      <td>0</td>\n",
       "      <td>normal</td>\n",
       "    </tr>\n",
       "    <tr>\n",
       "      <th>...</th>\n",
       "      <td>...</td>\n",
       "      <td>...</td>\n",
       "      <td>...</td>\n",
       "      <td>...</td>\n",
       "    </tr>\n",
       "    <tr>\n",
       "      <th>442223</th>\n",
       "      <td>29.804525</td>\n",
       "      <td>1</td>\n",
       "      <td>0</td>\n",
       "      <td>normal</td>\n",
       "    </tr>\n",
       "    <tr>\n",
       "      <th>442224</th>\n",
       "      <td>25.824332</td>\n",
       "      <td>1</td>\n",
       "      <td>0</td>\n",
       "      <td>normal</td>\n",
       "    </tr>\n",
       "    <tr>\n",
       "      <th>442225</th>\n",
       "      <td>27.248819</td>\n",
       "      <td>1</td>\n",
       "      <td>0</td>\n",
       "      <td>normal</td>\n",
       "    </tr>\n",
       "    <tr>\n",
       "      <th>442226</th>\n",
       "      <td>29.739201</td>\n",
       "      <td>1</td>\n",
       "      <td>0</td>\n",
       "      <td>normal</td>\n",
       "    </tr>\n",
       "    <tr>\n",
       "      <th>442227</th>\n",
       "      <td>29.658987</td>\n",
       "      <td>1</td>\n",
       "      <td>0</td>\n",
       "      <td>normal</td>\n",
       "    </tr>\n",
       "  </tbody>\n",
       "</table>\n",
       "<p>442228 rows × 4 columns</p>\n",
       "</div>"
      ],
      "text/plain": [
       "        current_temperature  thermostat_status  label    type\n",
       "0                 25.000000                  0      0  normal\n",
       "1                 25.000000                  0      0  normal\n",
       "2                 25.000000                  0      0  normal\n",
       "3                 25.000000                  0      0  normal\n",
       "4                 25.000000                  0      0  normal\n",
       "...                     ...                ...    ...     ...\n",
       "442223            29.804525                  1      0  normal\n",
       "442224            25.824332                  1      0  normal\n",
       "442225            27.248819                  1      0  normal\n",
       "442226            29.739201                  1      0  normal\n",
       "442227            29.658987                  1      0  normal\n",
       "\n",
       "[442228 rows x 4 columns]"
      ]
     },
     "execution_count": 5,
     "metadata": {},
     "output_type": "execute_result"
    }
   ],
   "source": [
    "df = df.drop(['date', 'time'], axis = 1)\n",
    "df"
   ]
  },
  {
   "cell_type": "code",
   "execution_count": 6,
   "id": "03ce9e4d",
   "metadata": {},
   "outputs": [
    {
     "data": {
      "text/plain": [
       "current_temperature    0\n",
       "thermostat_status      0\n",
       "label                  0\n",
       "type                   0\n",
       "dtype: int64"
      ]
     },
     "execution_count": 6,
     "metadata": {},
     "output_type": "execute_result"
    }
   ],
   "source": [
    "df.isnull().sum()"
   ]
  },
  {
   "cell_type": "code",
   "execution_count": 7,
   "id": "1d6a83be",
   "metadata": {},
   "outputs": [],
   "source": [
    "target = df.loc[:, ('type')]"
   ]
  },
  {
   "cell_type": "code",
   "execution_count": 8,
   "id": "e5b9d80c",
   "metadata": {},
   "outputs": [
    {
     "data": {
      "text/html": [
       "<div>\n",
       "<style scoped>\n",
       "    .dataframe tbody tr th:only-of-type {\n",
       "        vertical-align: middle;\n",
       "    }\n",
       "\n",
       "    .dataframe tbody tr th {\n",
       "        vertical-align: top;\n",
       "    }\n",
       "\n",
       "    .dataframe thead th {\n",
       "        text-align: right;\n",
       "    }\n",
       "</style>\n",
       "<table border=\"1\" class=\"dataframe\">\n",
       "  <thead>\n",
       "    <tr style=\"text-align: right;\">\n",
       "      <th></th>\n",
       "      <th>current_temperature</th>\n",
       "      <th>thermostat_status</th>\n",
       "      <th>label</th>\n",
       "    </tr>\n",
       "  </thead>\n",
       "  <tbody>\n",
       "    <tr>\n",
       "      <th>0</th>\n",
       "      <td>25.000000</td>\n",
       "      <td>0</td>\n",
       "      <td>0</td>\n",
       "    </tr>\n",
       "    <tr>\n",
       "      <th>1</th>\n",
       "      <td>25.000000</td>\n",
       "      <td>0</td>\n",
       "      <td>0</td>\n",
       "    </tr>\n",
       "    <tr>\n",
       "      <th>2</th>\n",
       "      <td>25.000000</td>\n",
       "      <td>0</td>\n",
       "      <td>0</td>\n",
       "    </tr>\n",
       "    <tr>\n",
       "      <th>3</th>\n",
       "      <td>25.000000</td>\n",
       "      <td>0</td>\n",
       "      <td>0</td>\n",
       "    </tr>\n",
       "    <tr>\n",
       "      <th>4</th>\n",
       "      <td>25.000000</td>\n",
       "      <td>0</td>\n",
       "      <td>0</td>\n",
       "    </tr>\n",
       "    <tr>\n",
       "      <th>...</th>\n",
       "      <td>...</td>\n",
       "      <td>...</td>\n",
       "      <td>...</td>\n",
       "    </tr>\n",
       "    <tr>\n",
       "      <th>442223</th>\n",
       "      <td>29.804525</td>\n",
       "      <td>1</td>\n",
       "      <td>0</td>\n",
       "    </tr>\n",
       "    <tr>\n",
       "      <th>442224</th>\n",
       "      <td>25.824332</td>\n",
       "      <td>1</td>\n",
       "      <td>0</td>\n",
       "    </tr>\n",
       "    <tr>\n",
       "      <th>442225</th>\n",
       "      <td>27.248819</td>\n",
       "      <td>1</td>\n",
       "      <td>0</td>\n",
       "    </tr>\n",
       "    <tr>\n",
       "      <th>442226</th>\n",
       "      <td>29.739201</td>\n",
       "      <td>1</td>\n",
       "      <td>0</td>\n",
       "    </tr>\n",
       "    <tr>\n",
       "      <th>442227</th>\n",
       "      <td>29.658987</td>\n",
       "      <td>1</td>\n",
       "      <td>0</td>\n",
       "    </tr>\n",
       "  </tbody>\n",
       "</table>\n",
       "<p>442228 rows × 3 columns</p>\n",
       "</div>"
      ],
      "text/plain": [
       "        current_temperature  thermostat_status  label\n",
       "0                 25.000000                  0      0\n",
       "1                 25.000000                  0      0\n",
       "2                 25.000000                  0      0\n",
       "3                 25.000000                  0      0\n",
       "4                 25.000000                  0      0\n",
       "...                     ...                ...    ...\n",
       "442223            29.804525                  1      0\n",
       "442224            25.824332                  1      0\n",
       "442225            27.248819                  1      0\n",
       "442226            29.739201                  1      0\n",
       "442227            29.658987                  1      0\n",
       "\n",
       "[442228 rows x 3 columns]"
      ]
     },
     "execution_count": 8,
     "metadata": {},
     "output_type": "execute_result"
    }
   ],
   "source": [
    "df = df.drop('type', axis = 1)\n",
    "df"
   ]
  },
  {
   "cell_type": "code",
   "execution_count": 9,
   "id": "0a327fe4",
   "metadata": {
    "scrolled": false
   },
   "outputs": [
    {
     "data": {
      "text/html": [
       "<div>\n",
       "<style scoped>\n",
       "    .dataframe tbody tr th:only-of-type {\n",
       "        vertical-align: middle;\n",
       "    }\n",
       "\n",
       "    .dataframe tbody tr th {\n",
       "        vertical-align: top;\n",
       "    }\n",
       "\n",
       "    .dataframe thead th {\n",
       "        text-align: right;\n",
       "    }\n",
       "</style>\n",
       "<table border=\"1\" class=\"dataframe\">\n",
       "  <thead>\n",
       "    <tr style=\"text-align: right;\">\n",
       "      <th></th>\n",
       "      <th>thermostat_status</th>\n",
       "      <th>label</th>\n",
       "    </tr>\n",
       "  </thead>\n",
       "  <tbody>\n",
       "    <tr>\n",
       "      <th>0</th>\n",
       "      <td>0</td>\n",
       "      <td>0</td>\n",
       "    </tr>\n",
       "    <tr>\n",
       "      <th>1</th>\n",
       "      <td>0</td>\n",
       "      <td>0</td>\n",
       "    </tr>\n",
       "    <tr>\n",
       "      <th>2</th>\n",
       "      <td>0</td>\n",
       "      <td>0</td>\n",
       "    </tr>\n",
       "    <tr>\n",
       "      <th>3</th>\n",
       "      <td>0</td>\n",
       "      <td>0</td>\n",
       "    </tr>\n",
       "    <tr>\n",
       "      <th>4</th>\n",
       "      <td>0</td>\n",
       "      <td>0</td>\n",
       "    </tr>\n",
       "    <tr>\n",
       "      <th>...</th>\n",
       "      <td>...</td>\n",
       "      <td>...</td>\n",
       "    </tr>\n",
       "    <tr>\n",
       "      <th>442223</th>\n",
       "      <td>1</td>\n",
       "      <td>0</td>\n",
       "    </tr>\n",
       "    <tr>\n",
       "      <th>442224</th>\n",
       "      <td>1</td>\n",
       "      <td>0</td>\n",
       "    </tr>\n",
       "    <tr>\n",
       "      <th>442225</th>\n",
       "      <td>1</td>\n",
       "      <td>0</td>\n",
       "    </tr>\n",
       "    <tr>\n",
       "      <th>442226</th>\n",
       "      <td>1</td>\n",
       "      <td>0</td>\n",
       "    </tr>\n",
       "    <tr>\n",
       "      <th>442227</th>\n",
       "      <td>1</td>\n",
       "      <td>0</td>\n",
       "    </tr>\n",
       "  </tbody>\n",
       "</table>\n",
       "<p>442228 rows × 2 columns</p>\n",
       "</div>"
      ],
      "text/plain": [
       "        thermostat_status  label\n",
       "0                       0      0\n",
       "1                       0      0\n",
       "2                       0      0\n",
       "3                       0      0\n",
       "4                       0      0\n",
       "...                   ...    ...\n",
       "442223                  1      0\n",
       "442224                  1      0\n",
       "442225                  1      0\n",
       "442226                  1      0\n",
       "442227                  1      0\n",
       "\n",
       "[442228 rows x 2 columns]"
      ]
     },
     "execution_count": 9,
     "metadata": {},
     "output_type": "execute_result"
    }
   ],
   "source": [
    "cat = []\n",
    "for i in df.columns:\n",
    "    if len(df[i].unique()) <= 20: cat.append(i)\n",
    "df_cat = df[cat]\n",
    "df_cat"
   ]
  },
  {
   "cell_type": "code",
   "execution_count": 10,
   "id": "14c7f25a",
   "metadata": {},
   "outputs": [
    {
     "data": {
      "text/html": [
       "<div>\n",
       "<style scoped>\n",
       "    .dataframe tbody tr th:only-of-type {\n",
       "        vertical-align: middle;\n",
       "    }\n",
       "\n",
       "    .dataframe tbody tr th {\n",
       "        vertical-align: top;\n",
       "    }\n",
       "\n",
       "    .dataframe thead th {\n",
       "        text-align: right;\n",
       "    }\n",
       "</style>\n",
       "<table border=\"1\" class=\"dataframe\">\n",
       "  <thead>\n",
       "    <tr style=\"text-align: right;\">\n",
       "      <th></th>\n",
       "      <th>current_temperature</th>\n",
       "    </tr>\n",
       "  </thead>\n",
       "  <tbody>\n",
       "    <tr>\n",
       "      <th>0</th>\n",
       "      <td>25.000000</td>\n",
       "    </tr>\n",
       "    <tr>\n",
       "      <th>1</th>\n",
       "      <td>25.000000</td>\n",
       "    </tr>\n",
       "    <tr>\n",
       "      <th>2</th>\n",
       "      <td>25.000000</td>\n",
       "    </tr>\n",
       "    <tr>\n",
       "      <th>3</th>\n",
       "      <td>25.000000</td>\n",
       "    </tr>\n",
       "    <tr>\n",
       "      <th>4</th>\n",
       "      <td>25.000000</td>\n",
       "    </tr>\n",
       "    <tr>\n",
       "      <th>...</th>\n",
       "      <td>...</td>\n",
       "    </tr>\n",
       "    <tr>\n",
       "      <th>442223</th>\n",
       "      <td>29.804525</td>\n",
       "    </tr>\n",
       "    <tr>\n",
       "      <th>442224</th>\n",
       "      <td>25.824332</td>\n",
       "    </tr>\n",
       "    <tr>\n",
       "      <th>442225</th>\n",
       "      <td>27.248819</td>\n",
       "    </tr>\n",
       "    <tr>\n",
       "      <th>442226</th>\n",
       "      <td>29.739201</td>\n",
       "    </tr>\n",
       "    <tr>\n",
       "      <th>442227</th>\n",
       "      <td>29.658987</td>\n",
       "    </tr>\n",
       "  </tbody>\n",
       "</table>\n",
       "<p>442228 rows × 1 columns</p>\n",
       "</div>"
      ],
      "text/plain": [
       "        current_temperature\n",
       "0                 25.000000\n",
       "1                 25.000000\n",
       "2                 25.000000\n",
       "3                 25.000000\n",
       "4                 25.000000\n",
       "...                     ...\n",
       "442223            29.804525\n",
       "442224            25.824332\n",
       "442225            27.248819\n",
       "442226            29.739201\n",
       "442227            29.658987\n",
       "\n",
       "[442228 rows x 1 columns]"
      ]
     },
     "execution_count": 10,
     "metadata": {},
     "output_type": "execute_result"
    }
   ],
   "source": [
    "df_temp = df.drop(cat, axis = 1)\n",
    "df_temp"
   ]
  },
  {
   "cell_type": "code",
   "execution_count": 11,
   "id": "b0db2159",
   "metadata": {},
   "outputs": [
    {
     "data": {
      "text/html": [
       "<div>\n",
       "<style scoped>\n",
       "    .dataframe tbody tr th:only-of-type {\n",
       "        vertical-align: middle;\n",
       "    }\n",
       "\n",
       "    .dataframe tbody tr th {\n",
       "        vertical-align: top;\n",
       "    }\n",
       "\n",
       "    .dataframe thead th {\n",
       "        text-align: right;\n",
       "    }\n",
       "</style>\n",
       "<table border=\"1\" class=\"dataframe\">\n",
       "  <thead>\n",
       "    <tr style=\"text-align: right;\">\n",
       "      <th></th>\n",
       "      <th>current_temperature</th>\n",
       "      <th>thermostat_status</th>\n",
       "      <th>label</th>\n",
       "    </tr>\n",
       "  </thead>\n",
       "  <tbody>\n",
       "    <tr>\n",
       "      <th>0</th>\n",
       "      <td>-0.908342</td>\n",
       "      <td>0</td>\n",
       "      <td>0</td>\n",
       "    </tr>\n",
       "    <tr>\n",
       "      <th>1</th>\n",
       "      <td>-0.908342</td>\n",
       "      <td>0</td>\n",
       "      <td>0</td>\n",
       "    </tr>\n",
       "    <tr>\n",
       "      <th>2</th>\n",
       "      <td>-0.908342</td>\n",
       "      <td>0</td>\n",
       "      <td>0</td>\n",
       "    </tr>\n",
       "    <tr>\n",
       "      <th>3</th>\n",
       "      <td>-0.908342</td>\n",
       "      <td>0</td>\n",
       "      <td>0</td>\n",
       "    </tr>\n",
       "    <tr>\n",
       "      <th>4</th>\n",
       "      <td>-0.908342</td>\n",
       "      <td>0</td>\n",
       "      <td>0</td>\n",
       "    </tr>\n",
       "    <tr>\n",
       "      <th>...</th>\n",
       "      <td>...</td>\n",
       "      <td>...</td>\n",
       "      <td>...</td>\n",
       "    </tr>\n",
       "    <tr>\n",
       "      <th>442223</th>\n",
       "      <td>0.374968</td>\n",
       "      <td>1</td>\n",
       "      <td>0</td>\n",
       "    </tr>\n",
       "    <tr>\n",
       "      <th>442224</th>\n",
       "      <td>-0.688160</td>\n",
       "      <td>1</td>\n",
       "      <td>0</td>\n",
       "    </tr>\n",
       "    <tr>\n",
       "      <th>442225</th>\n",
       "      <td>-0.307673</td>\n",
       "      <td>1</td>\n",
       "      <td>0</td>\n",
       "    </tr>\n",
       "    <tr>\n",
       "      <th>442226</th>\n",
       "      <td>0.357520</td>\n",
       "      <td>1</td>\n",
       "      <td>0</td>\n",
       "    </tr>\n",
       "    <tr>\n",
       "      <th>442227</th>\n",
       "      <td>0.336094</td>\n",
       "      <td>1</td>\n",
       "      <td>0</td>\n",
       "    </tr>\n",
       "  </tbody>\n",
       "</table>\n",
       "<p>442228 rows × 3 columns</p>\n",
       "</div>"
      ],
      "text/plain": [
       "        current_temperature  thermostat_status  label\n",
       "0                 -0.908342                  0      0\n",
       "1                 -0.908342                  0      0\n",
       "2                 -0.908342                  0      0\n",
       "3                 -0.908342                  0      0\n",
       "4                 -0.908342                  0      0\n",
       "...                     ...                ...    ...\n",
       "442223             0.374968                  1      0\n",
       "442224            -0.688160                  1      0\n",
       "442225            -0.307673                  1      0\n",
       "442226             0.357520                  1      0\n",
       "442227             0.336094                  1      0\n",
       "\n",
       "[442228 rows x 3 columns]"
      ]
     },
     "execution_count": 11,
     "metadata": {},
     "output_type": "execute_result"
    }
   ],
   "source": [
    "scaler = StandardScaler()\n",
    "df[df_temp.columns] = scaler.fit_transform(df[df_temp.columns])\n",
    "df"
   ]
  },
  {
   "cell_type": "code",
   "execution_count": 12,
   "id": "58e74014",
   "metadata": {},
   "outputs": [
    {
     "data": {
      "text/plain": [
       "array(['normal', 'backdoor', 'injection', 'password', 'ransomware',\n",
       "       'scanning', 'xss'], dtype=object)"
      ]
     },
     "execution_count": 12,
     "metadata": {},
     "output_type": "execute_result"
    }
   ],
   "source": [
    "target.unique()"
   ]
  },
  {
   "cell_type": "code",
   "execution_count": 13,
   "id": "2dee2bbe",
   "metadata": {},
   "outputs": [],
   "source": [
    "label_encoder = preprocessing.LabelEncoder()\n",
    "target = label_encoder.fit_transform(target)"
   ]
  },
  {
   "cell_type": "code",
   "execution_count": 14,
   "id": "0434d672",
   "metadata": {},
   "outputs": [],
   "source": [
    "def lr(x, y):\n",
    "    x_train, x_test, y_train, y_test = train_test_split(x, y, test_size = 0.3, random_state = 43)\n",
    "    model_lr = LogisticRegression()\n",
    "    model_lr.fit(x_train, y_train)\n",
    "    preds = model_lr.predict(x_test)\n",
    "    return accuracy_score(y_test, preds)"
   ]
  },
  {
   "cell_type": "code",
   "execution_count": 15,
   "id": "38a0a3a5",
   "metadata": {},
   "outputs": [],
   "source": [
    "def dtc(x, y):\n",
    "    x_train, x_test, y_train, y_test = train_test_split(x, y, test_size = 0.3, random_state = 43)\n",
    "    model_dtc = DecisionTreeClassifier()   \n",
    "    model_dtc.fit(x_train, y_train)\n",
    "    preds = model_dtc.predict(x_test)\n",
    "    return accuracy_score(y_test, preds)"
   ]
  },
  {
   "cell_type": "code",
   "execution_count": 16,
   "id": "0d6547e1",
   "metadata": {},
   "outputs": [],
   "source": [
    "def rfc(x, y):\n",
    "    x_train, x_test, y_train, y_test = train_test_split(x, y, test_size = 0.3, random_state = 43)\n",
    "    model_rfc = RandomForestClassifier()    \n",
    "    model_rfc.fit(x_train, y_train)\n",
    "    preds = model_rfc.predict(x_test)\n",
    "    return accuracy_score(y_test, preds)"
   ]
  },
  {
   "cell_type": "code",
   "execution_count": 17,
   "id": "c6eac526",
   "metadata": {},
   "outputs": [],
   "source": [
    "def knn(x, y):\n",
    "    x_train, x_test, y_train, y_test = train_test_split(x, y, test_size = 0.3, random_state = 43)\n",
    "    model_knn = KNeighborsClassifier()\n",
    "    model_knn.fit(x_train, y_train)\n",
    "    preds = model_knn.predict(x_test)\n",
    "    return accuracy_score(y_test, preds)"
   ]
  },
  {
   "cell_type": "code",
   "execution_count": 18,
   "id": "17c71336",
   "metadata": {},
   "outputs": [],
   "source": [
    "def svm(x, y):\n",
    "    x_train, x_test, y_train, y_test = train_test_split(x, y, test_size = 0.3, random_state = 43)\n",
    "    model_svm = SVC(kernel = 'sigmoid')\n",
    "    model_svm.fit(x_train, y_train) \n",
    "    preds = model_svm.predict(x_test)\n",
    "    return accuracy_score(y_test, preds)"
   ]
  },
  {
   "cell_type": "code",
   "execution_count": 19,
   "id": "6944fb2a",
   "metadata": {},
   "outputs": [],
   "source": [
    "def nb(x, y):\n",
    "    x_train, x_test, y_train, y_test = train_test_split(x, y, test_size = 0.3, random_state = 43)\n",
    "    model_nb = GaussianNB()\n",
    "    model_nb.fit(x_train, y_train)\n",
    "    preds = model_nb.predict(x_test)\n",
    "    return accuracy_score(y_test, preds)"
   ]
  },
  {
   "cell_type": "code",
   "execution_count": 20,
   "id": "bf287fe5",
   "metadata": {},
   "outputs": [],
   "source": [
    "def xgbb(x, y):\n",
    "    x_train, x_test, y_train, y_test = train_test_split(x, y, test_size = 0.3, random_state = 43)\n",
    "    model_xgb = xgb.XGBClassifier()\n",
    "    model_xgb.fit(x_train, y_train)\n",
    "    preds = model_xgb.predict(x_test)\n",
    "    return accuracy_score(y_test, preds)"
   ]
  },
  {
   "cell_type": "code",
   "execution_count": 21,
   "id": "eb34fa1a",
   "metadata": {},
   "outputs": [],
   "source": [
    "def adb(x, y):\n",
    "    x_train, x_test, y_train, y_test = train_test_split(x, y, test_size = 0.3, random_state = 43)\n",
    "    model_adb = AdaBoostClassifier()\n",
    "    model_adb.fit(x_train, y_train)\n",
    "    preds = model_adb.predict(x_test)\n",
    "    return accuracy_score(y_test, preds)"
   ]
  },
  {
   "cell_type": "code",
   "execution_count": 22,
   "id": "d2ccbff7",
   "metadata": {},
   "outputs": [],
   "source": [
    "def mlp(x, y):\n",
    "    x_train, x_test, y_train, y_test = train_test_split(x, y, test_size = 0.3, random_state = 43)\n",
    "    model_mlp = MLPClassifier()    \n",
    "    model_mlp.fit(x_train, y_train)\n",
    "    preds = model_mlp.predict(x_test)\n",
    "    return accuracy_score(y_test, preds)"
   ]
  },
  {
   "cell_type": "code",
   "execution_count": 23,
   "id": "7689c15b",
   "metadata": {},
   "outputs": [],
   "source": [
    "def gb(x, y):\n",
    "    x_train, x_test, y_train, y_test = train_test_split(x, y, test_size = 0.3, random_state = 43)\n",
    "    model_mlp = GradientBoostingClassifier() \n",
    "    model_mlp.fit(x_train, y_train)\n",
    "    preds = model_mlp.predict(x_test)\n",
    "    return accuracy_score(y_test, preds)"
   ]
  },
  {
   "cell_type": "code",
   "execution_count": 24,
   "id": "a40f1746",
   "metadata": {},
   "outputs": [],
   "source": [
    "x = df\n",
    "y = target"
   ]
  },
  {
   "cell_type": "code",
   "execution_count": 25,
   "id": "352334a0",
   "metadata": {},
   "outputs": [],
   "source": [
    "x.columns = x.columns.astype('str')"
   ]
  },
  {
   "cell_type": "code",
   "execution_count": null,
   "id": "25d4d41b",
   "metadata": {
    "scrolled": false
   },
   "outputs": [],
   "source": [
    "#without feature selection\n",
    "\n",
    "\n",
    "print('lr - ', lr(x, y))\n",
    "print('dtc - ', dtc(x, y))\n",
    "print('rfc - ', rfc(x, y))\n",
    "print('knn - ', knn(x, y))\n",
    "# print('svm - ', svm(x, y))\n",
    "print('Naive Bayes - ', nb(x, y))\n",
    "print('XGB - ', xgbb(x, y))\n",
    "print('ADB - ', adb(x, y))\n",
    "print('MLP - ', mlp(x, y))\n",
    "print('GB - ', gb(x, y))"
   ]
  },
  {
   "cell_type": "code",
   "execution_count": 26,
   "id": "2fd3db75",
   "metadata": {
    "scrolled": true
   },
   "outputs": [],
   "source": [
    "def ica(x, i):\n",
    "    ica = FastICA(n_components = i, random_state = 42)\n",
    "    data_ica = ica.fit_transform(x)\n",
    "    data_ica = pd.DataFrame(data_ica)\n",
    "    return data_ica"
   ]
  },
  {
   "cell_type": "code",
   "execution_count": 27,
   "id": "3e35c6a5",
   "metadata": {
    "scrolled": false
   },
   "outputs": [],
   "source": [
    "def pca(x, i):\n",
    "    pca = decomposition.PCA(n_components = i, random_state=42)\n",
    "    data_pca = pca.fit_transform(x)\n",
    "    data_pca = pd.DataFrame(data_pca)\n",
    "    return data_pca"
   ]
  },
  {
   "cell_type": "code",
   "execution_count": 37,
   "id": "f2910bf8",
   "metadata": {},
   "outputs": [],
   "source": [
    "def mi(x, y):\n",
    "    mi = sp(percentile = 90)\n",
    "    data_mi = mi.fit(x, y)\n",
    "    data_mi = mi.transform(x)\n",
    "    data_mi = pd.DataFrame(data_mi)\n",
    "    return data_mi"
   ]
  },
  {
   "cell_type": "code",
   "execution_count": 29,
   "id": "25e9d88d",
   "metadata": {},
   "outputs": [],
   "source": [
    "def smf(x, y):\n",
    "    lasso_model = Lasso(alpha = 0.1)\n",
    "    selector = SelectFromModel(lasso_model)\n",
    "    X_selected = selector.fit_transform(x, y)\n",
    "    selected_features_indices = selector.get_support(indices=True)\n",
    "    selected_features_names = x.columns[selected_features_indices]\n",
    "    return x[selected_features_names]"
   ]
  },
  {
   "cell_type": "code",
   "execution_count": 30,
   "id": "c5b1f8ff",
   "metadata": {
    "scrolled": true
   },
   "outputs": [],
   "source": [
    "def sfs(x, y, model):\n",
    "    sfs_selector = SequentialFeatureSelector(model, forward = True, k_features = len(x.columns) // 2)\n",
    "    X_selected = sfs_selector.fit_transform(x, y)\n",
    "    selected_features_names = list(x.columns[sfs_selector.k_feature_idx_])\n",
    "    return x[selected_features_names]"
   ]
  },
  {
   "cell_type": "code",
   "execution_count": 31,
   "id": "e084cf51",
   "metadata": {},
   "outputs": [],
   "source": [
    "def rfe(x, y, model):\n",
    "    rfecv_selector = RFECV(estimator = model, step = 1, cv = 5, scoring = 'accuracy')\n",
    "    X_selected = rfecv_selector.fit_transform(x, y)\n",
    "    selected_features_names = list(x.columns[rfecv_selector.support_])\n",
    "    return x[selected_features_names]"
   ]
  },
  {
   "cell_type": "code",
   "execution_count": 32,
   "id": "42797649",
   "metadata": {},
   "outputs": [],
   "source": [
    "def cfs(x):\n",
    "    corr_matrix = x.corr()\n",
    "    high_corr_features = []\n",
    "    \n",
    "    for i in range(len(corr_matrix.columns)):\n",
    "        for j in range(i):\n",
    "            if abs(corr_matrix.iloc[i, j]) > 0.8:\n",
    "                colname = corr_matrix.columns[i]\n",
    "                high_corr_features.append(colname)\n",
    "\n",
    "    return x.drop(high_corr_features, axis=1)"
   ]
  },
  {
   "cell_type": "code",
   "execution_count": 33,
   "id": "13cdf994",
   "metadata": {},
   "outputs": [],
   "source": [
    "def fir(x, y):\n",
    "    rfc = RandomForestClassifier(n_estimators=100)\n",
    "    rfc.fit(x, y)\n",
    "    feature_importances = list(zip(x.columns, rfc.feature_importances_))\n",
    "    a = sorted(feature_importances, key=lambda x: x[1], reverse=True)\n",
    "    ls = []\n",
    "    for i in a[:len(a)//2 + 1]: ls.append(i[0])\n",
    "    return x[ls]"
   ]
  },
  {
   "cell_type": "code",
   "execution_count": null,
   "id": "12e970f9",
   "metadata": {},
   "outputs": [],
   "source": [
    "data_ica = ica(x, len(x.columns) // 2)"
   ]
  },
  {
   "cell_type": "code",
   "execution_count": null,
   "id": "5dd1a5d9",
   "metadata": {},
   "outputs": [],
   "source": [
    "data_pca = pca(x, len(x.columns) // 2)"
   ]
  },
  {
   "cell_type": "code",
   "execution_count": 38,
   "id": "a04b0138",
   "metadata": {},
   "outputs": [],
   "source": [
    "data_mi = mi(x, y)"
   ]
  },
  {
   "cell_type": "code",
   "execution_count": null,
   "id": "1e7807d4",
   "metadata": {},
   "outputs": [],
   "source": [
    "data_smf = smf(x, y)"
   ]
  },
  {
   "cell_type": "code",
   "execution_count": null,
   "id": "19046707",
   "metadata": {},
   "outputs": [],
   "source": [
    "data_cfs = cfs(x)"
   ]
  },
  {
   "cell_type": "code",
   "execution_count": null,
   "id": "d0caf12c",
   "metadata": {},
   "outputs": [],
   "source": [
    "data_fir = fir(x, y)"
   ]
  },
  {
   "cell_type": "code",
   "execution_count": null,
   "id": "360665ab",
   "metadata": {},
   "outputs": [],
   "source": [
    "#with feature selection ica\n",
    "\n",
    "\n",
    "print('lr - ', lr(data_ica, y))\n",
    "print('dtc - ', dtc(data_ica, y))\n",
    "print('rfc - ', rfc(data_ica, y))\n",
    "print('knn - ', knn(data_ica, y))\n",
    "# print('svm - ', svm(data_ica, y))\n",
    "print('Naive Bayes - ', nb(data_ica, y))\n",
    "print('XGB - ', xgbb(data_ica, y))\n",
    "print('ADB - ', adb(data_ica, y))\n",
    "print('MLP - ', mlp(data_ica, y))\n",
    "print('GB - ', gb(data_ica, y))"
   ]
  },
  {
   "cell_type": "code",
   "execution_count": null,
   "id": "91e9f9d7",
   "metadata": {},
   "outputs": [],
   "source": [
    "#with feature selection pca\n",
    "\n",
    "\n",
    "print('lr - ', lr(data_pca, y))\n",
    "print('dtc - ', dtc(data_pca, y))\n",
    "print('rfc - ', rfc(data_pca, y))\n",
    "print('knn - ', knn(data_pca, y))\n",
    "# print('svm - ', svm(data_pca, y))\n",
    "print('Naive Bayes - ', nb(data_pca, y))\n",
    "print('XGB - ', xgbb(data_pca, y))\n",
    "print('ADB - ', adb(data_pca, y))\n",
    "print('MLP - ', mlp(data_pca, y))\n",
    "print('GB - ', gb(data_pca, y))"
   ]
  },
  {
   "cell_type": "code",
   "execution_count": null,
   "id": "a98e9304",
   "metadata": {},
   "outputs": [],
   "source": [
    "#with feature selection mi\n",
    "\n",
    "\n",
    "print('lr - ', lr(data_mi, y))\n",
    "print('dtc - ', dtc(data_mi, y))\n",
    "print('rfc - ', rfc(data_mi, y))\n",
    "print('knn - ', knn(data_mi, y))\n",
    "# print('svm - ', svm(data_mi, y))\n",
    "print('Naive Bayes - ', nb(data_mi, y))\n",
    "print('XGB - ', xgbb(data_mi, y))\n",
    "print('ADB - ', adb(data_mi, y))\n",
    "print('MLP - ', mlp(data_mi, y))\n",
    "print('GB - ', gb(data_mi, y))"
   ]
  },
  {
   "cell_type": "code",
   "execution_count": null,
   "id": "5d4450ce",
   "metadata": {},
   "outputs": [],
   "source": [
    "#with feature selection smf\n",
    "\n",
    "\n",
    "print('lr - ', lr(data_smf, y))\n",
    "print('dtc - ', dtc(data_smf, y))\n",
    "print('rfc - ', rfc(data_smf, y))\n",
    "print('knn - ', knn(data_smf, y))\n",
    "# print('svm - ', svm(data_smf, y))\n",
    "print('Naive Bayes - ', nb(data_smf, y))\n",
    "print('XGB - ', xgbb(data_smf, y))\n",
    "print('ADB - ', adb(data_smf, y))\n",
    "print('MLP - ', mlp(data_smf, y))\n",
    "print('GB - ', gb(data_smf, y))"
   ]
  },
  {
   "cell_type": "code",
   "execution_count": null,
   "id": "d2571075",
   "metadata": {},
   "outputs": [],
   "source": [
    "# #with feature selection sfs\n",
    "\n",
    "\n",
    "# print('lr - ', lr(sfs(x, y, LogisticRegression()), y))\n",
    "# print('dtc - ', dtc(sfs(x, y, DecisionTreeClassifier()), y))\n",
    "# print('rfc - ', rfc(sfs(x, y, RandomForestClassifier()), y))\n",
    "# print('knn - ', knn(sfs(x, y, KNeighborsClassifier()), y))\n",
    "# # print('svm - ', svm(sfs(x, y, SVC(kernel = 'sigmoid')), y))\n",
    "# print('Naive Bayes - ', nb(sfs(x, y, GaussianNB()), y))\n",
    "# print('XGB - ', xgbb(sfs(x, y, xgb.XGBClassifier()), y))\n",
    "# print('ADB - ', adb(sfs(x, y, AdaBoostClassifier()), y))\n",
    "# print('MLP - ', mlp(sfs(x, y, MLPClassifier()), y))\n",
    "# print('GB - ', gb(sfs(x, y, GradientBoostingClassifier()), y))"
   ]
  },
  {
   "cell_type": "code",
   "execution_count": null,
   "id": "ad9512b9",
   "metadata": {},
   "outputs": [],
   "source": [
    "# #with feature selection rfe\n",
    "\n",
    "\n",
    "# print('lr - ', lr(rfe(x, y, LogisticRegression()), y))\n",
    "# print('dtc - ', dtc(rfe(x, y, DecisionTreeClassifier()), y))\n",
    "# print('rfc - ', rfc(rfe(x, y, RandomForestClassifier()), y))\n",
    "# print('knn - ', knn(rfe(x, y, KNeighborsClassifier()), y))\n",
    "# # print('svm - ', svm(rfe(x, y, SVC(kernel = 'sigmoid')), y))\n",
    "# print('Naive Bayes - ', nb(rfe(x, y, GaussianNB()), y))\n",
    "# print('XGB - ', xgbb(rfe(x, y, xgb.XGBClassifier()), y))\n",
    "# print('ADB - ', adb(rfe(x, y, AdaBoostClassifier()), y))\n",
    "# print('MLP - ', mlp(rfe(x, y, MLPClassifier()), y))\n",
    "# print('GB - ', gb(rfe(x, y, GradientBoostingClassifier()), y))"
   ]
  },
  {
   "cell_type": "code",
   "execution_count": null,
   "id": "cd53de0f",
   "metadata": {},
   "outputs": [],
   "source": [
    "#with feature selection csf\n",
    "\n",
    "\n",
    "print('lr - ', lr(data_cfs, y))\n",
    "print('dtc - ', dtc(data_cfs, y))\n",
    "print('rfc - ', rfc(data_cfs, y))\n",
    "print('knn - ', knn(data_cfs, y))\n",
    "# print('svm - ', svm(data_cfs, y))\n",
    "print('Naive Bayes - ', nb(data_cfs, y))\n",
    "print('XGB - ', xgbb(data_cfs, y))\n",
    "print('ADB - ', adb(data_cfs, y))\n",
    "print('MLP - ', mlp(data_cfs, y))\n",
    "print('GB - ', gb(data_cfs, y))"
   ]
  },
  {
   "cell_type": "code",
   "execution_count": null,
   "id": "39ea0c5d",
   "metadata": {},
   "outputs": [],
   "source": [
    "#with feature selection fir\n",
    "\n",
    "\n",
    "print('lr - ', lr(data_fir, y))\n",
    "print('dtc - ', dtc(data_fir, y))\n",
    "print('rfc - ', rfc(data_fir, y))\n",
    "print('knn - ', knn(data_fir, y))\n",
    "# print('svm - ', svm(data_fir, y))\n",
    "print('Naive Bayes - ', nb(data_fir, y))\n",
    "print('XGB - ', xgbb(data_fir, y))\n",
    "print('ADB - ', adb(data_fir, y))\n",
    "print('MLP - ', mlp(data_fir, y))\n",
    "print('GB - ', gb(data_fir, y))"
   ]
  }
 ],
 "metadata": {
  "kernelspec": {
   "display_name": "Python 3 (ipykernel)",
   "language": "python",
   "name": "python3"
  },
  "language_info": {
   "codemirror_mode": {
    "name": "ipython",
    "version": 3
   },
   "file_extension": ".py",
   "mimetype": "text/x-python",
   "name": "python",
   "nbconvert_exporter": "python",
   "pygments_lexer": "ipython3",
   "version": "3.9.7"
  }
 },
 "nbformat": 4,
 "nbformat_minor": 5
}
